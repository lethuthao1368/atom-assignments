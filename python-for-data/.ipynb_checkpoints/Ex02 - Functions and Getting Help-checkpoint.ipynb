{
 "cells": [
  {
   "cell_type": "markdown",
   "metadata": {
    "_uuid": "b614ba0f78fa3cb457efd3a72d7c5c6d66ced8c4"
   },
   "source": [
    "# Exercise 02 - Functions and Getting Help !"
   ]
  },
  {
   "cell_type": "markdown",
   "metadata": {
    "_uuid": "463c02da36c6f974212f336d68fa9fdec63b29f2"
   },
   "source": [
    "## 1. Complete Your Very First Function \n",
    "\n",
    "Complete the body of the following function according to its docstring.\n",
    "\n",
    "*HINT*: Python has a builtin function `round`"
   ]
  },
  {
   "cell_type": "code",
   "execution_count": 18,
   "metadata": {},
   "outputs": [
    {
     "name": "stdout",
     "output_type": "stream",
     "text": [
      "Help on built-in function round in module builtins:\n",
      "\n",
      "round(number, ndigits=None)\n",
      "    Round a number to a given precision in decimal digits.\n",
      "    \n",
      "    The return value is an integer if ndigits is omitted or None.  Otherwise\n",
      "    the return value has the same type as the number.  ndigits may be negative.\n",
      "\n"
     ]
    }
   ],
   "source": [
    "help(round)"
   ]
  },
  {
   "cell_type": "code",
   "execution_count": 19,
   "metadata": {
    "_uuid": "eb7401ab1739f5310e7b400a67c55e9025866d5d"
   },
   "outputs": [],
   "source": [
    "def round_to_two_places(num):\n",
    "    \"\"\"Return the given number rounded to two decimal places. \n",
    "    \n",
    "    >>> round_to_two_places(3.14159)\n",
    "    3.14\n",
    "    \"\"\"\n",
    "    return round(num,2)\n",
    "    # Replace this body with your own code"
   ]
  },
  {
   "cell_type": "code",
   "execution_count": 20,
   "metadata": {},
   "outputs": [
    {
     "data": {
      "text/plain": [
       "3.16"
      ]
     },
     "execution_count": 20,
     "metadata": {},
     "output_type": "execute_result"
    }
   ],
   "source": [
    "round_to_two_places(3.15951)"
   ]
  },
  {
   "cell_type": "markdown",
   "metadata": {
    "_uuid": "2c6c12ce2992453c0e7c06d813e3bdf1dbfdad73"
   },
   "source": [
    "## 2. Explore the Built-in Function\n",
    "The help for `round` says that `ndigits` (the second argument) may be negative.\n",
    "What do you think will happen when it is? Try some examples in the following cell?\n",
    "\n",
    "Can you think of a case where this would be useful?"
   ]
  },
  {
   "cell_type": "code",
   "execution_count": 21,
   "metadata": {},
   "outputs": [],
   "source": [
    "# the ndigits can be negative, it will round the number in the left side. For example:\n",
    "# round(15,-1) -> 20\n",
    "# maybe it can be usefull when we try to round some interger number, to calculate easier?"
   ]
  },
  {
   "cell_type": "code",
   "execution_count": 22,
   "metadata": {
    "_uuid": "310ae90a6f40836427b7563e595dbb1156283ceb"
   },
   "outputs": [
    {
     "data": {
      "text/plain": [
       "2000"
      ]
     },
     "execution_count": 22,
     "metadata": {},
     "output_type": "execute_result"
    }
   ],
   "source": [
    "round(1556,-3)"
   ]
  },
  {
   "cell_type": "markdown",
   "metadata": {
    "_uuid": "36e83961f42db06503a116a777185ac25b759788"
   },
   "source": [
    "## 3. More Function\n",
    "\n",
    "Giving the problem of candy-sharing friends Alice, Bob and Carol tried to split candies evenly. For the sake of their friendship, any candies left over would be smashed. For example, if they collectively bring home 91 candies, they will take 30 each and smash 1.\n",
    "\n",
    "Below is a simple function that will calculate the number of candies to smash for *any* number of total candies.\n",
    "\n",
    "**Your task**: \n",
    "- Modify it so that it optionally takes a second argument representing the number of friends the candies are being split between. If no second argument is provided, it should assume 3 friends, as before.\n",
    "- Update the docstring to reflect this new behaviour."
   ]
  },
  {
   "cell_type": "code",
   "execution_count": 23,
   "metadata": {
    "_uuid": "2bbed479de86e23c7a812c7ae0782735fd764195"
   },
   "outputs": [],
   "source": [
    "def to_smash(total_candies,number_friends = 3):\n",
    "    \"\"\"Return the number of leftover candies that must be smashed after distributing\n",
    "    the given number of candies evenly between 3 friends.\n",
    "    \n",
    "    >>> to_smash(91)\n",
    "    1\n",
    "    \"\"\"\n",
    "    \n",
    "    return total_candies % number_friends"
   ]
  },
  {
   "cell_type": "code",
   "execution_count": 24,
   "metadata": {},
   "outputs": [
    {
     "data": {
      "text/plain": [
       "2"
      ]
     },
     "execution_count": 24,
     "metadata": {},
     "output_type": "execute_result"
    }
   ],
   "source": [
    "to_smash(65)"
   ]
  },
  {
   "cell_type": "markdown",
   "metadata": {
    "_uuid": "ec7d50eeeb167b91ecae5c682d65b9e1fc5fcf13"
   },
   "source": [
    "## 4. Taste some Errors\n",
    "\n",
    "It may not be fun, but reading and understanding **error messages** will help you improve solving problem skills.\n",
    "\n",
    "Each code cell below contains some commented-out buggy code. For each cell...\n",
    "\n",
    "1. Read the code and predict what you think will happen when it's run.\n",
    "2. Then uncomment the code and run it to see what happens. *(**Tips**: In the kernel editor, you can highlight several lines and press `ctrl`+`/` to toggle commenting.)*\n",
    "3. Fix the code (so that it accomplishes its intended purpose without throwing an exception)\n",
    "\n",
    "<!-- TODO: should this be autochecked? Delta is probably pretty small. -->"
   ]
  },
  {
   "cell_type": "code",
   "execution_count": 25,
   "metadata": {
    "_uuid": "dd3955780a593bff78face0dc46093f4deb533ab"
   },
   "outputs": [
    {
     "data": {
      "text/plain": [
       "10.0"
      ]
     },
     "execution_count": 25,
     "metadata": {},
     "output_type": "execute_result"
    }
   ],
   "source": [
    "#typo\n",
    "round_to_two_places(9.9999)"
   ]
  },
  {
   "cell_type": "code",
   "execution_count": 26,
   "metadata": {
    "_uuid": "2a89511b6b1bd89b05998b705bf3db5088841a43"
   },
   "outputs": [
    {
     "name": "stdout",
     "output_type": "stream",
     "text": [
      "5\n"
     ]
    }
   ],
   "source": [
    "# one input\n",
    "x = -10\n",
    "y = 5\n",
    "# Which of the two variables above has the smallest absolute value?\n",
    "smallest_abs = min(abs(x),abs(y))\n",
    "print(smallest_abs)"
   ]
  },
  {
   "cell_type": "code",
   "execution_count": 27,
   "metadata": {
    "_uuid": "6ae2b82d1003c4bc7fe4d503e7d9ddeca3f95b1e"
   },
   "outputs": [
    {
     "name": "stdout",
     "output_type": "stream",
     "text": [
      "5\n"
     ]
    }
   ],
   "source": [
    "# indentation\n",
    "def f(x):\n",
    "    y = abs(x)\n",
    "    return y\n",
    "\n",
    "print(f(5))"
   ]
  },
  {
   "cell_type": "markdown",
   "metadata": {
    "_uuid": "dc94a365a7d7f7f974348e9e5ec597a2d5036c6b"
   },
   "source": [
    "## 5. More and more Functions\n",
    "\n",
    "For this question, we'll be using two functions imported from Python's `time` module.\n",
    "\n",
    "### Time Function\n",
    "The [time](https://docs.python.org/3/library/time.html#time.time) function returns the number of seconds that have passed since the Epoch (aka [Unix time](https://en.wikipedia.org/wiki/Unix_time)). \n",
    "\n",
    "<!-- We've provided a function called `seconds_since_epoch` which returns the number of seconds that have passed since the Epoch (aka [Unix time](https://en.wikipedia.org/wiki/Unix_time)). -->\n",
    "\n",
    "Try it out below. Each time you run it, you should get a slightly larger number."
   ]
  },
  {
   "cell_type": "code",
   "execution_count": 28,
   "metadata": {
    "_uuid": "6c219975b461ccac77cdb0cb8dd3527c0cef52fd"
   },
   "outputs": [
    {
     "name": "stdout",
     "output_type": "stream",
     "text": [
      "1621531253.9523032 seconds since the Epoch\n"
     ]
    }
   ],
   "source": [
    "# Importing the function 'time' from the module of the same name. \n",
    "# (We'll discuss imports in more depth later)\n",
    "from time import time\n",
    "t = time()\n",
    "print(t, \"seconds since the Epoch\")"
   ]
  },
  {
   "cell_type": "markdown",
   "metadata": {
    "_uuid": "5b75363a5c9d514c41cc10f263083f16b078c81c"
   },
   "source": [
    "### Sleep Function\n",
    "We'll also be using a function called [sleep](https://docs.python.org/3/library/time.html#time.sleep), which makes us wait some number of seconds while it does nothing particular. (Sounds useful, right?)\n",
    "\n",
    "You can see it in action by running the cell below:"
   ]
  },
  {
   "cell_type": "code",
   "execution_count": 29,
   "metadata": {
    "_uuid": "bc124bfa7c9ac5510fae42cb4c241768ab241502"
   },
   "outputs": [
    {
     "name": "stdout",
     "output_type": "stream",
     "text": [
      "Getting sleepy. See you in 5 seconds\n",
      "I'm back. What did I miss?\n"
     ]
    }
   ],
   "source": [
    "from time import sleep\n",
    "duration = 5\n",
    "print(\"Getting sleepy. See you in\", duration, \"seconds\")\n",
    "sleep(duration)\n",
    "print(\"I'm back. What did I miss?\")"
   ]
  },
  {
   "cell_type": "markdown",
   "metadata": {
    "_uuid": "c4e97a4e8267f2c210ada2949b084fa8c9742c9d"
   },
   "source": [
    "### Your Own Function\n",
    "With the help of these functions, complete the function **`time_call`** below according to its docstring.\n",
    "\n",
    "<!-- (The sleep function will be useful for testing here since we have a pretty good idea of what something like `time_call(sleep, 1)` should return.) -->"
   ]
  },
  {
   "cell_type": "code",
   "execution_count": 30,
   "metadata": {
    "_uuid": "100e5013aea45c09e249bf1476d103b1f98daba4"
   },
   "outputs": [],
   "source": [
    "def time_call(fn, arg):\n",
    "    \"\"\"Return the amount of time the given function takes (in seconds) when called with the given argument.\n",
    "    \"\"\"\n",
    "    start_time = time()\n",
    "    print(f'star time is {start_time}')\n",
    "    print(fn(arg))\n",
    "    sleep(5)\n",
    "    end_time = time()\n",
    "    return f'end time is {end_time} and the timing is {end_time- start_time}'\n",
    "    "
   ]
  },
  {
   "cell_type": "code",
   "execution_count": 31,
   "metadata": {},
   "outputs": [
    {
     "name": "stdout",
     "output_type": "stream",
     "text": [
      "star time is 1621531259.0159245\n",
      "2\n"
     ]
    },
    {
     "data": {
      "text/plain": [
       "'end time is 1621531264.0281582 and the timing is 5.012233734130859'"
      ]
     },
     "execution_count": 31,
     "metadata": {},
     "output_type": "execute_result"
    }
   ],
   "source": [
    "time_call(to_smash,56)"
   ]
  },
  {
   "cell_type": "markdown",
   "metadata": {
    "_uuid": "45ba3ad3926ba61d0c9febfc129d8118b9f01518"
   },
   "source": [
    "How would you verify that `time_call` is working correctly? Think about it..."
   ]
  },
  {
   "cell_type": "markdown",
   "metadata": {
    "_uuid": "472d1778e82e6b7300823a7934ecb55a35a1bb42"
   },
   "source": [
    "## 6. 🌶️ Reuse your Function\n",
    "\n",
    "*Note: this question depends on a working solution to the previous question.*\n",
    "\n",
    "Complete the function below according to its docstring."
   ]
  },
  {
   "cell_type": "code",
   "execution_count": 32,
   "metadata": {},
   "outputs": [
    {
     "data": {
      "text/plain": [
       "1"
      ]
     },
     "execution_count": 32,
     "metadata": {},
     "output_type": "execute_result"
    }
   ],
   "source": [
    "a = [1,2,3]\n",
    "min(a)"
   ]
  },
  {
   "cell_type": "code",
   "execution_count": 33,
   "metadata": {
    "_uuid": "21abdac6bcd885ef4916cf56a360aee37bce2479"
   },
   "outputs": [],
   "source": [
    "def slowest_call(fn, arg1, arg2, arg3):\n",
    "    \"\"\"Return the amount of time taken by the slowest of the following function\n",
    "    calls: fn(arg1), fn(arg2), fn(arg3)\n",
    "    \n",
    "    \"\"\"\n",
    "    total_time = list()\n",
    "    for i in [arg1,arg2,arg3]:\n",
    "        time_start = time()\n",
    "        print(f'The argument {i} is processing')\n",
    "        fn(i)\n",
    "        sleep(2)\n",
    "        time_end = time()\n",
    "        time_dif = time_end - time_start\n",
    "        total_time.append(time_dif)\n",
    "    max_time = max(total_time)\n",
    "    return f'the slowest is {max_time*10**6} miliseconds, the order {total_time.index(max_time)+1}'\n",
    "        \n",
    "    "
   ]
  },
  {
   "cell_type": "code",
   "execution_count": 34,
   "metadata": {},
   "outputs": [
    {
     "name": "stdout",
     "output_type": "stream",
     "text": [
      "The argument 1 is processing\n",
      "The argument 2 is processing\n",
      "The argument 5655555656565 is processing\n"
     ]
    },
    {
     "data": {
      "text/plain": [
       "'the slowest is 2015077.5909423828 miliseconds, the order 1'"
      ]
     },
     "execution_count": 34,
     "metadata": {},
     "output_type": "execute_result"
    }
   ],
   "source": [
    "slowest_call(to_smash,1,2,5655555656565)"
   ]
  },
  {
   "cell_type": "markdown",
   "metadata": {
    "_uuid": "d1c0353110c1b9578af9bbc20e4a9e0f6717a34e"
   },
   "source": [
    "# Keep Going"
   ]
  },
  {
   "cell_type": "code",
   "execution_count": null,
   "metadata": {},
   "outputs": [],
   "source": []
  }
 ],
 "metadata": {
  "kernelspec": {
   "display_name": "Python 3",
   "language": "python",
   "name": "python3"
  },
  "language_info": {
   "codemirror_mode": {
    "name": "ipython",
    "version": 3
   },
   "file_extension": ".py",
   "mimetype": "text/x-python",
   "name": "python",
   "nbconvert_exporter": "python",
   "pygments_lexer": "ipython3",
   "version": "3.8.5"
  },
  "learntools_metadata": {
   "lesson_index": 1,
   "type": "exercise"
  }
 },
 "nbformat": 4,
 "nbformat_minor": 1
}
