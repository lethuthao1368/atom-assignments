{
 "cells": [
  {
   "cell_type": "markdown",
   "metadata": {
    "id": "4w2e0D-hni2p"
   },
   "source": [
    "# HOME ASSIGNMENT #3: SLACK API - TO GSHEET\n",
    "**Mục đích của bài Assignment**\n",
    "- Lấy thông tin các Users từ Slack của DataCracy (BTC, Mentors và Learners)\n",
    "- `**[Optional 1]**` Đưa danh sách Users lên Google Spreadsheet, để theo dõi \n",
    "- `**[Optional 2]**` Lấy thông tin Assignment Submission và số Reviews trên `#atom-assignmentnt2` và cập nhật lên Spreadsheet, để theo dõi các học viên đã nộp bài và được review\n",
    "\n",
    "**Các kiến thức sẽ áp dụng**\n",
    "- Ôn lại và luyện tập thêm về concept API (cụ thể sử dụng API Slack)\n",
    "- Trích xuất thông tin từ JSON\n",
    "- Dùng module gspread để đưa thông tin lên Google Spreadsheet"
   ]
  },
  {
   "cell_type": "markdown",
   "metadata": {
    "id": "yitICPVzpRI2"
   },
   "source": [
    "## 0. Load Modules"
   ]
  },
  {
   "cell_type": "code",
   "execution_count": 3,
   "metadata": {},
   "outputs": [
    {
     "name": "stdout",
     "output_type": "stream",
     "text": [
      "Collecting gspread\n",
      "  Downloading gspread-3.7.0-py3-none-any.whl (28 kB)\n",
      "Collecting google-auth>=1.12.0\n",
      "  Downloading google_auth-1.30.0-py2.py3-none-any.whl (146 kB)\n",
      "Collecting google-auth-oauthlib>=0.4.1\n",
      "  Downloading google_auth_oauthlib-0.4.4-py2.py3-none-any.whl (18 kB)\n",
      "Collecting rsa<5,>=3.1.4; python_version >= \"3.6\"\n",
      "  Downloading rsa-4.7.2-py3-none-any.whl (34 kB)\n",
      "Requirement already satisfied: setuptools>=40.3.0 in c:\\users\\user\\anaconda3\\lib\\site-packages (from google-auth>=1.12.0->gspread) (50.3.1.post20201107)\n",
      "Requirement already satisfied: six>=1.9.0 in c:\\users\\user\\anaconda3\\lib\\site-packages (from google-auth>=1.12.0->gspread) (1.15.0)\n",
      "Collecting pyasn1-modules>=0.2.1\n",
      "  Downloading pyasn1_modules-0.2.8-py2.py3-none-any.whl (155 kB)\n",
      "Collecting cachetools<5.0,>=2.0.0\n",
      "  Downloading cachetools-4.2.2-py3-none-any.whl (11 kB)\n",
      "Collecting requests-oauthlib>=0.7.0\n",
      "  Downloading requests_oauthlib-1.3.0-py2.py3-none-any.whl (23 kB)\n",
      "Collecting pyasn1>=0.1.3\n",
      "  Downloading pyasn1-0.4.8-py2.py3-none-any.whl (77 kB)\n",
      "Note: you may need to restart the kernel to use updated packages.Requirement already satisfied: requests>=2.0.0 in c:\\users\\user\\anaconda3\\lib\\site-packages (from requests-oauthlib>=0.7.0->google-auth-oauthlib>=0.4.1->gspread) (2.24.0)\n",
      "Collecting oauthlib>=3.0.0\n",
      "  Downloading oauthlib-3.1.0-py2.py3-none-any.whl (147 kB)\n",
      "Requirement already satisfied: chardet<4,>=3.0.2 in c:\\users\\user\\anaconda3\\lib\\site-packages (from requests>=2.0.0->requests-oauthlib>=0.7.0->google-auth-oauthlib>=0.4.1->gspread) (3.0.4)\n",
      "Requirement already satisfied: certifi>=2017.4.17 in c:\\users\\user\\anaconda3\\lib\\site-packages (from requests>=2.0.0->requests-oauthlib>=0.7.0->google-auth-oauthlib>=0.4.1->gspread) (2020.6.20)\n",
      "Requirement already satisfied: urllib3!=1.25.0,!=1.25.1,<1.26,>=1.21.1 in c:\\users\\user\\anaconda3\\lib\\site-packages (from requests>=2.0.0->requests-oauthlib>=0.7.0->google-auth-oauthlib>=0.4.1->gspread) (1.25.11)\n",
      "Requirement already satisfied: idna<3,>=2.5 in c:\\users\\user\\anaconda3\\lib\\site-packages (from requests>=2.0.0->requests-oauthlib>=0.7.0->google-auth-oauthlib>=0.4.1->gspread) (2.10)\n",
      "Installing collected packages: pyasn1, rsa, pyasn1-modules, cachetools, google-auth, oauthlib, requests-oauthlib, google-auth-oauthlib, gspread\n",
      "Successfully installed cachetools-4.2.2 google-auth-1.30.0 google-auth-oauthlib-0.4.4 gspread-3.7.0 oauthlib-3.1.0 pyasn1-0.4.8 pyasn1-modules-0.2.8 requests-oauthlib-1.3.0 rsa-4.7.2\n",
      "\n"
     ]
    }
   ],
   "source": [
    "pip install gspread"
   ]
  },
  {
   "cell_type": "code",
   "execution_count": 5,
   "metadata": {},
   "outputs": [
    {
     "name": "stdout",
     "output_type": "stream",
     "text": [
      "Collecting gspread-dataframe\n",
      "  Downloading gspread_dataframe-3.2.1-py2.py3-none-any.whl (7.8 kB)\n",
      "Requirement already satisfied: pandas>=0.24.0 in c:\\users\\user\\anaconda3\\lib\\site-packages (from gspread-dataframe) (1.1.3)\n",
      "Requirement already satisfied: six>=1.12.0 in c:\\users\\user\\anaconda3\\lib\\site-packages (from gspread-dataframe) (1.15.0)\n",
      "Requirement already satisfied: gspread>=3.0.0 in c:\\users\\user\\anaconda3\\lib\\site-packages (from gspread-dataframe) (3.7.0)\n",
      "Requirement already satisfied: pytz>=2017.2 in c:\\users\\user\\anaconda3\\lib\\site-packages (from pandas>=0.24.0->gspread-dataframe) (2020.1)\n",
      "Requirement already satisfied: numpy>=1.15.4 in c:\\users\\user\\anaconda3\\lib\\site-packages (from pandas>=0.24.0->gspread-dataframe) (1.19.2)\n",
      "Requirement already satisfied: python-dateutil>=2.7.3 in c:\\users\\user\\anaconda3\\lib\\site-packages (from pandas>=0.24.0->gspread-dataframe) (2.8.1)\n",
      "Requirement already satisfied: google-auth>=1.12.0 in c:\\users\\user\\anaconda3\\lib\\site-packages (from gspread>=3.0.0->gspread-dataframe) (1.30.0)\n",
      "Requirement already satisfied: google-auth-oauthlib>=0.4.1 in c:\\users\\user\\anaconda3\\lib\\site-packages (from gspread>=3.0.0->gspread-dataframe) (0.4.4)\n",
      "Requirement already satisfied: pyasn1-modules>=0.2.1 in c:\\users\\user\\anaconda3\\lib\\site-packages (from google-auth>=1.12.0->gspread>=3.0.0->gspread-dataframe) (0.2.8)\n",
      "Requirement already satisfied: setuptools>=40.3.0 in c:\\users\\user\\anaconda3\\lib\\site-packages (from google-auth>=1.12.0->gspread>=3.0.0->gspread-dataframe) (50.3.1.post20201107)\n",
      "Requirement already satisfied: cachetools<5.0,>=2.0.0 in c:\\users\\user\\anaconda3\\lib\\site-packages (from google-auth>=1.12.0->gspread>=3.0.0->gspread-dataframe) (4.2.2)\n",
      "Requirement already satisfied: rsa<5,>=3.1.4; python_version >= \"3.6\" in c:\\users\\user\\anaconda3\\lib\\site-packages (from google-auth>=1.12.0->gspread>=3.0.0->gspread-dataframe) (4.7.2)\n",
      "Requirement already satisfied: requests-oauthlib>=0.7.0 in c:\\users\\user\\anaconda3\\lib\\site-packages (from google-auth-oauthlib>=0.4.1->gspread>=3.0.0->gspread-dataframe) (1.3.0)\n",
      "Requirement already satisfied: pyasn1<0.5.0,>=0.4.6 in c:\\users\\user\\anaconda3\\lib\\site-packages (from pyasn1-modules>=0.2.1->google-auth>=1.12.0->gspread>=3.0.0->gspread-dataframe) (0.4.8)\n",
      "Requirement already satisfied: requests>=2.0.0 in c:\\users\\user\\anaconda3\\lib\\site-packages (from requests-oauthlib>=0.7.0->google-auth-oauthlib>=0.4.1->gspread>=3.0.0->gspread-dataframe) (2.24.0)\n",
      "Requirement already satisfied: oauthlib>=3.0.0 in c:\\users\\user\\anaconda3\\lib\\site-packages (from requests-oauthlib>=0.7.0->google-auth-oauthlib>=0.4.1->gspread>=3.0.0->gspread-dataframe) (3.1.0)\n",
      "Requirement already satisfied: urllib3!=1.25.0,!=1.25.1,<1.26,>=1.21.1 in c:\\users\\user\\anaconda3\\lib\\site-packages (from requests>=2.0.0->requests-oauthlib>=0.7.0->google-auth-oauthlib>=0.4.1->gspread>=3.0.0->gspread-dataframe) (1.25.11)\n",
      "Requirement already satisfied: certifi>=2017.4.17 in c:\\users\\user\\anaconda3\\lib\\site-packages (from requests>=2.0.0->requests-oauthlib>=0.7.0->google-auth-oauthlib>=0.4.1->gspread>=3.0.0->gspread-dataframe) (2020.6.20)\n",
      "Requirement already satisfied: idna<3,>=2.5 in c:\\users\\user\\anaconda3\\lib\\site-packages (from requests>=2.0.0->requests-oauthlib>=0.7.0->google-auth-oauthlib>=0.4.1->gspread>=3.0.0->gspread-dataframe) (2.10)\n",
      "Requirement already satisfied: chardet<4,>=3.0.2 in c:\\users\\user\\anaconda3\\lib\\site-packages (from requests>=2.0.0->requests-oauthlib>=0.7.0->google-auth-oauthlib>=0.4.1->gspread>=3.0.0->gspread-dataframe) (3.0.4)\n",
      "Installing collected packages: gspread-dataframe\n",
      "Successfully installed gspread-dataframe-3.2.1\n",
      "Note: you may need to restart the kernel to use updated packages.\n"
     ]
    }
   ],
   "source": [
    "pip install gspread-dataframe"
   ]
  },
  {
   "cell_type": "code",
   "execution_count": 9,
   "metadata": {
    "id": "G_HCucZ5rSHq"
   },
   "outputs": [],
   "source": [
    "import requests #-> Để gọi API\n",
    "import re #-> Để xử lý data dạng string\n",
    "from datetime import datetime as dt #-> Để xử lý data dạng datetime\n",
    "import gspread #-> Để update data lên Google Spreadsheet\n",
    "from gspread_dataframe import set_with_dataframe #-> Để update data lên Google Spreadsheet\n",
    "import pandas as pd #-> Để update data dạng bản\n",
    "import json \n",
    "from oauth2client.service_account import ServiceAccountCredentials #-> Để nhập Google Spreadsheet Credentials\n",
    "import os"
   ]
  },
  {
   "cell_type": "markdown",
   "metadata": {
    "id": "z7HOk6uMp2K2"
   },
   "source": [
    "## 1. Slack API: User List\n",
    "* Bạn có thể đọc lại về concept API [HERE](https://anhdang.gitbook.io/datacracy/atom/3-data-tools-2/3.2-spotify-api-and-postman)\n",
    "* Assignment này sẽ dùng Slack API để lấy thông tin về Learners và theo dõi các bài tập đã nộp và được review (sau đó cập nhật lên Google Spreadsheet)\n",
    "* ===> **NOTICE**: Slack API authorize bằng Bearer Token `xoxb-...-...-...` (Sẽ được cung cấp riêng)\n",
    "* Update file `env_variable.json` như trong [Assignment#2](../assignment_2/home_assignment_2.ipynb)\n",
    "* ==> Nếu bạn dùng Google Colab, upload file vào Colab ([Hướng dẫn](https://colab.research.google.com/notebooks/io.ipynb))"
   ]
  },
  {
   "cell_type": "code",
   "execution_count": 13,
   "metadata": {
    "colab": {
     "base_uri": "https://localhost:8080/"
    },
    "id": "YoSEHfdTwYRj",
    "outputId": "02b1f5e1-6f9a-4c2b-a481-33284324d1cc"
   },
   "outputs": [
    {
     "name": "stdout",
     "output_type": "stream",
     "text": [
      "C:\\Users\\USER\\OneDrive\\Documents\\GitHub\\atom-assignments\\assignment_3\n"
     ]
    }
   ],
   "source": [
    "cd C:\\Users\\USER\\OneDrive\\Documents\\GitHub\\atom-assignments\\assignment_3"
   ]
  },
  {
   "cell_type": "code",
   "execution_count": 92,
   "metadata": {
    "id": "tFPqT2pirhy4"
   },
   "outputs": [],
   "source": [
    "with open('env_variable_3.json', 'r') as j:\n",
    "    json_data = json.load(j)\n",
    "#     print(json_data)"
   ]
  },
  {
   "cell_type": "code",
   "execution_count": 29,
   "metadata": {
    "id": "wAzmaVTLrpvH"
   },
   "outputs": [],
   "source": [
    "## Load SLACK_BEARER_TOKEN\n",
    "os.environ['SLACK_BEARER_TOKEN'] = json_data['SLACK_BEARER_TOKEN'] "
   ]
  },
  {
   "cell_type": "code",
   "execution_count": 31,
   "metadata": {
    "id": "K_TrDTx138jD"
   },
   "outputs": [],
   "source": [
    "## Gọi API từ Endpoints (Input - Token được đưa vào Headers)\n",
    "## Challenge: Thử gọi API này bằng Postman\n",
    "endpoint = \"https://slack.com/api/users.list\"\n",
    "headers = {\"Authorization\": \"Bearer {}\".format(os.environ['SLACK_BEARER_TOKEN'])}\n",
    "response_json = requests.post(endpoint, headers=headers).json() \n",
    "user_dat = response_json['members']\n",
    "# print (response_json)"
   ]
  },
  {
   "cell_type": "code",
   "execution_count": 33,
   "metadata": {},
   "outputs": [
    {
     "data": {
      "text/plain": [
       "72"
      ]
     },
     "execution_count": 33,
     "metadata": {},
     "output_type": "execute_result"
    }
   ],
   "source": [
    "len(user_dat)"
   ]
  },
  {
   "cell_type": "code",
   "execution_count": 60,
   "metadata": {},
   "outputs": [
    {
     "data": {
      "text/plain": [
       "{'id': 'U023E0BAHQ8',\n",
       " 'team_id': 'T01B7SGGMLJ',\n",
       " 'name': 'testgettoken',\n",
       " 'deleted': False,\n",
       " 'color': '9b3b45',\n",
       " 'real_name': 'test.gettoken',\n",
       " 'tz': 'America/Los_Angeles',\n",
       " 'tz_label': 'Pacific Daylight Time',\n",
       " 'tz_offset': -25200,\n",
       " 'profile': {'title': '',\n",
       "  'phone': '',\n",
       "  'skype': '',\n",
       "  'real_name': 'test.gettoken',\n",
       "  'real_name_normalized': 'test.gettoken',\n",
       "  'display_name': '',\n",
       "  'display_name_normalized': '',\n",
       "  'fields': None,\n",
       "  'status_text': '',\n",
       "  'status_emoji': '',\n",
       "  'status_expiration': 0,\n",
       "  'avatar_hash': 'gc28c6476803',\n",
       "  'api_app_id': 'A022HBW1Z9U',\n",
       "  'always_active': False,\n",
       "  'bot_id': 'B022WAYRETW',\n",
       "  'image_24': 'https://secure.gravatar.com/avatar/c28c647680342591290d4dca604303d5.jpg?s=24&d=https%3A%2F%2Fa.slack-edge.com%2Fdf10d%2Fimg%2Favatars%2Fava_0020-24.png',\n",
       "  'image_32': 'https://secure.gravatar.com/avatar/c28c647680342591290d4dca604303d5.jpg?s=32&d=https%3A%2F%2Fa.slack-edge.com%2Fdf10d%2Fimg%2Favatars%2Fava_0020-32.png',\n",
       "  'image_48': 'https://secure.gravatar.com/avatar/c28c647680342591290d4dca604303d5.jpg?s=48&d=https%3A%2F%2Fa.slack-edge.com%2Fdf10d%2Fimg%2Favatars%2Fava_0020-48.png',\n",
       "  'image_72': 'https://secure.gravatar.com/avatar/c28c647680342591290d4dca604303d5.jpg?s=72&d=https%3A%2F%2Fa.slack-edge.com%2Fdf10d%2Fimg%2Favatars%2Fava_0020-72.png',\n",
       "  'image_192': 'https://secure.gravatar.com/avatar/c28c647680342591290d4dca604303d5.jpg?s=192&d=https%3A%2F%2Fa.slack-edge.com%2Fdf10d%2Fimg%2Favatars%2Fava_0020-192.png',\n",
       "  'image_512': 'https://secure.gravatar.com/avatar/c28c647680342591290d4dca604303d5.jpg?s=512&d=https%3A%2F%2Fa.slack-edge.com%2Fdf10d%2Fimg%2Favatars%2Fava_0020-512.png',\n",
       "  'status_text_canonical': '',\n",
       "  'team': 'T01B7SGGMLJ'},\n",
       " 'is_admin': False,\n",
       " 'is_owner': False,\n",
       " 'is_primary_owner': False,\n",
       " 'is_restricted': False,\n",
       " 'is_ultra_restricted': False,\n",
       " 'is_bot': True,\n",
       " 'is_app_user': False,\n",
       " 'updated': 1621623748,\n",
       " 'is_email_confirmed': False}"
      ]
     },
     "execution_count": 60,
     "metadata": {},
     "output_type": "execute_result"
    }
   ],
   "source": [
    "user_dat[-1]"
   ]
  },
  {
   "cell_type": "markdown",
   "metadata": {
    "id": "rqEti4Y50tdB"
   },
   "source": [
    "### TODO #1\n",
    "Hoàn tất đoạn code sau"
   ]
  },
  {
   "cell_type": "code",
   "execution_count": 41,
   "metadata": {
    "id": "P0qbkdhtD9ww"
   },
   "outputs": [],
   "source": [
    "## Loop qua JSON file và extract các thông tin quan trọng (id, name, display_name, real_name_normalized, title, phone, is_bot)\n",
    "## Hint: Bạn có thể dùng Postman hoặc in user_dat JSON để xem cấu trúc (schema), dùng Ctrl+F để tìm các keys (id, name, display_name, real_name_normalized, title, phone, is_bot)\n",
    "user_dict = {'user_id':[], 'name':[], 'display_name':[],'real_name':[],'title':[],'phone':[],'is_bot':[]}\n",
    "for i in range(len(user_dat)):\n",
    "    user_dict['user_id'].append(user_dat[i]['id'])\n",
    "    user_dict['name'].append(user_dat[i]['name'])\n",
    "    user_dict['display_name'].append(user_dat[i]['profile']['display_name'])\n",
    "    user_dict['real_name'].append(user_dat[i]['profile']['real_name_normalized'])\n",
    "    user_dict['title'].append(user_dat[i]['profile']['title'])\n",
    "    user_dict['phone'].append(user_dat[i]['profile']['phone'])\n",
    "    user_dict['is_bot'].append(user_dat[i]['is_bot'])"
   ]
  },
  {
   "cell_type": "code",
   "execution_count": 42,
   "metadata": {},
   "outputs": [
    {
     "data": {
      "text/plain": [
       "{'user_id': ['USLACKBOT',\n",
       "  'U01AT4T75JB',\n",
       "  'U01AVDY7JET',\n",
       "  'U01BE2PR6LU',\n",
       "  'U01C48T7S1J',\n",
       "  'U01CMTYB7EU',\n",
       "  'U01GQR2FE93',\n",
       "  'U01HARCHNKU',\n",
       "  'U01JQ5TUP0B',\n",
       "  'U01JQ5U1RPV',\n",
       "  'U01JQ5U4ADR',\n",
       "  'U01KDQJ9FCG',\n",
       "  'U01U6JM6LEB',\n",
       "  'U01U6JQB695',\n",
       "  'U01U8CAMGB1',\n",
       "  'U01UEJFMUSJ',\n",
       "  'U01UEJG8KHU',\n",
       "  'U01UEJKV3PG',\n",
       "  'U01UFKDG79U',\n",
       "  'U01UFTS0UGN',\n",
       "  'U01UJ9LG5U5',\n",
       "  'U01UJ9M3P1T',\n",
       "  'U01UJ9M5TU5',\n",
       "  'U01UJ9MUADT',\n",
       "  'U01UJ9NKX8D',\n",
       "  'U01UJ9P1S3X',\n",
       "  'U01UJ9PA0MB',\n",
       "  'U01UJ9PRT5K',\n",
       "  'U01UJKRQM2R',\n",
       "  'U01UMBW8G8J',\n",
       "  'U01UMBX2X18',\n",
       "  'U01UMBXJLHG',\n",
       "  'U01UMBZHU2W',\n",
       "  'U01UMC08KL2',\n",
       "  'U01UMC0N5U2',\n",
       "  'U01UMC2NCSW',\n",
       "  'U01UMJ36QD9',\n",
       "  'U01UMJ451V1',\n",
       "  'U01UMJ4D5NX',\n",
       "  'U01UMJ4J38B',\n",
       "  'U01UMJ5AQ0K',\n",
       "  'U01UQGZHSTZ',\n",
       "  'U01USGKQ771',\n",
       "  'U01UTGRMGEQ',\n",
       "  'U01UTGRP0HJ',\n",
       "  'U01UTGRQS9J',\n",
       "  'U01UTGS5ZNY',\n",
       "  'U01UTGT8CVA',\n",
       "  'U01UTGVPE7N',\n",
       "  'U01UTQ4AVRS',\n",
       "  'U01V00JK9LH',\n",
       "  'U01V00KHHHP',\n",
       "  'U01V00LQ7EV',\n",
       "  'U01V00P4S2V',\n",
       "  'U01V082PLN5',\n",
       "  'U01V2NN1JFP',\n",
       "  'U01V5TS96MR',\n",
       "  'U01VB632FPS',\n",
       "  'U01VB63LRNC',\n",
       "  'U01VB6AT4G0',\n",
       "  'U01VBFY2E59',\n",
       "  'U01VBGPP1EU',\n",
       "  'U020P6WPAQJ',\n",
       "  'U020P877V88',\n",
       "  'U021NF9FMPH',\n",
       "  'U021TFMH1RU',\n",
       "  'U021Y57RMN1',\n",
       "  'U02246KN5D1',\n",
       "  'U0226MQ73MJ',\n",
       "  'U022BEV3FEW',\n",
       "  'U022J0SQAMQ',\n",
       "  'U023E0BAHQ8'],\n",
       " 'name': ['slackbot',\n",
       "  'loclexuan26392',\n",
       "  'locle.ds',\n",
       "  'maianhdang.ftu',\n",
       "  'huyenhoang.design',\n",
       "  'dr.tringuyenzmc',\n",
       "  'khanguyenwk',\n",
       "  'linhphan',\n",
       "  'tt.thuchuyen',\n",
       "  'thuongthuong.dv',\n",
       "  'duongliengia',\n",
       "  'phanthuylinh8396',\n",
       "  'hoangquocviet.208',\n",
       "  'thgiang.phan',\n",
       "  'huyenngoc2017',\n",
       "  'nhuhai03',\n",
       "  'trangnguyen.n3t',\n",
       "  'nhduyen1995',\n",
       "  'hanhdinh.201099',\n",
       "  'googledrive',\n",
       "  'danhpcv',\n",
       "  'cnhhoang850',\n",
       "  'minhnguyentk95',\n",
       "  'lovelylife.158',\n",
       "  'lienanhhuong96',\n",
       "  'thao',\n",
       "  'doithihong92',\n",
       "  'hieulam1312',\n",
       "  'letanthanh273',\n",
       "  'baongoc.vuthi',\n",
       "  'thienphu.71',\n",
       "  'nvlinh.dth',\n",
       "  'levy6543',\n",
       "  'auslyn.nguyen',\n",
       "  'chuviethong.vn',\n",
       "  't.hung2306',\n",
       "  'tranquan030894',\n",
       "  'nganho124',\n",
       "  'dr.thuongnguyen',\n",
       "  'nguyenthithutram2413',\n",
       "  'duongphannamhung',\n",
       "  'toantran2206',\n",
       "  'trang.ngo1709',\n",
       "  'hanh.nguyenhong2511',\n",
       "  'phamtran30996',\n",
       "  'vukhanhlinh.3526',\n",
       "  'ngocha.nt1476',\n",
       "  'ngttnguyen',\n",
       "  'phuonghoaiftu2.k55',\n",
       "  'sondaoxuan.aof',\n",
       "  'dinhtuan3955',\n",
       "  'phuongttn50.hrc',\n",
       "  'nqlong',\n",
       "  'datvt19414c',\n",
       "  'huynhphuoc14111998',\n",
       "  'lengocmy713',\n",
       "  'github',\n",
       "  'huynhanh.ha94',\n",
       "  'nguyenhuynhanhthu94',\n",
       "  'letam.brando',\n",
       "  'trangh',\n",
       "  'tranctan96',\n",
       "  'thuynh.386',\n",
       "  'huongntn2202',\n",
       "  'ngochant',\n",
       "  'mquang.151999',\n",
       "  'lamlv723',\n",
       "  'conversationslist',\n",
       "  'mad',\n",
       "  'convhist',\n",
       "  'abc',\n",
       "  'testgettoken'],\n",
       " 'display_name': ['Slackbot',\n",
       "  'Loc Le Xuan',\n",
       "  'Loc Le Xuan',\n",
       "  'MAD',\n",
       "  'Thanh Huyen Hoang',\n",
       "  '',\n",
       "  '',\n",
       "  '',\n",
       "  '',\n",
       "  '',\n",
       "  '',\n",
       "  '',\n",
       "  'Viet Hoang',\n",
       "  '',\n",
       "  'Ngoc Huyen',\n",
       "  'Duong Nhu Hai',\n",
       "  'Trang Nguyễn',\n",
       "  'Duyên Nguyễn Hồng',\n",
       "  'Mỹ Hạnh Đinh Thị',\n",
       "  '',\n",
       "  'Danh Phan',\n",
       "  'Cao Nguyen Huy Hoang',\n",
       "  'Minh Nguyen',\n",
       "  '',\n",
       "  'Lien Anh Trinh',\n",
       "  'Thao Le',\n",
       "  'Hồng Đới',\n",
       "  'Hiếu',\n",
       "  '',\n",
       "  'Ngoc Vu',\n",
       "  'Thien Phu',\n",
       "  'Nguyen Linh',\n",
       "  'Vy Le',\n",
       "  '',\n",
       "  'Việt Hồng Chu',\n",
       "  'Tiến Hùng',\n",
       "  'Quân Nguyễn',\n",
       "  'Hồ Bảo Ngân',\n",
       "  'Thuong Nguyen',\n",
       "  '',\n",
       "  'Hưng Dương Phan Nam',\n",
       "  'Toan Tran',\n",
       "  'Trang',\n",
       "  'Hanh Nguyen',\n",
       "  'Tran Pham',\n",
       "  'Linh Vu',\n",
       "  'Hà Nguyễn',\n",
       "  'Nguyễn Thảo Nguyên',\n",
       "  'ntp-hoai',\n",
       "  'Sơn Đào Xuân',\n",
       "  'Đình Tuấn Phạm',\n",
       "  'Phuong Tran',\n",
       "  'Nguyễn Quang Long',\n",
       "  'Đạt Vũ Thành',\n",
       "  'Phước Huỳnh',\n",
       "  'Ngọc Mỹ Lê',\n",
       "  '',\n",
       "  'Anh Hà Văn Huỳnh',\n",
       "  'Nguyen Huynh Anh Thu',\n",
       "  '',\n",
       "  'Gia Hoang Tran',\n",
       "  'Tân Trần',\n",
       "  '',\n",
       "  '',\n",
       "  '',\n",
       "  'Quang Nguyen',\n",
       "  'Lâm Lê',\n",
       "  '',\n",
       "  '',\n",
       "  '',\n",
       "  '',\n",
       "  ''],\n",
       " 'real_name': ['Slackbot',\n",
       "  'Loc Le Xuan',\n",
       "  'Loc Le Xuan',\n",
       "  'Dặng Huỳnh Mai Anh',\n",
       "  'Thanh Huyen Hoang',\n",
       "  'Dr Tringuyenzmc',\n",
       "  'Kha Nguyen',\n",
       "  'Phan Linh',\n",
       "  'Tt Thuchuyen',\n",
       "  'Thuong Do',\n",
       "  'duongliengia',\n",
       "  'Phan Linh',\n",
       "  'Viet Hoang',\n",
       "  'Giang Phan',\n",
       "  'Ngoc Huyen',\n",
       "  'Duong Nhu Hai',\n",
       "  'Trang Nguyễn',\n",
       "  'Duyen Nguyễn Hồng',\n",
       "  'Mỹ Hạnh Dinh Thị',\n",
       "  'Google Drive',\n",
       "  'Danh Phan',\n",
       "  'Cao Nguyen Huy Hoang',\n",
       "  'Nguyen Thi Kim Minh',\n",
       "  'Thu Trang',\n",
       "  'Lien Anh Trinh',\n",
       "  'Thao Le',\n",
       "  'Hồng Dới',\n",
       "  'Hieu Lam',\n",
       "  'Le Tan Thanh',\n",
       "  'Ngoc Vu',\n",
       "  'Phu NDT',\n",
       "  'Nguyen Linh',\n",
       "  'Vy Le',\n",
       "  'Minh-Thu Nguyen Hoang',\n",
       "  'Việt Hồng Chu',\n",
       "  'Nguyễn Tiến Hung',\n",
       "  'Quan Nguyễn',\n",
       "  'Hồ Bảo Ngan',\n",
       "  'Thuong Nguyen',\n",
       "  'TramNguyen',\n",
       "  'Hưng Dương Phan Nam',\n",
       "  'Toan Tran',\n",
       "  'Ngo Thi Minh Trang',\n",
       "  'Hanh Nguyen',\n",
       "  'Tran Pham',\n",
       "  'Linh Vu',\n",
       "  'Ha Nguyễn',\n",
       "  'Nguyễn Thao Nguyen',\n",
       "  'ntp-hoai',\n",
       "  'Sơn Dao Xuan',\n",
       "  'Dinh Tuấn Phạm',\n",
       "  'Phuong Tran',\n",
       "  'Nguyễn Quang Long',\n",
       "  'Dạt Vu Thanh',\n",
       "  'Phước Huỳnh',\n",
       "  'Ngọc Mỹ Le',\n",
       "  'GitHub',\n",
       "  'Anh Ha Van Huỳnh',\n",
       "  'anh thu nguyen huynh',\n",
       "  'Le Thi Tam',\n",
       "  'Gia Hoang Tran',\n",
       "  'Tan Trần',\n",
       "  'Thuy Nguyen',\n",
       "  'Huong Nguyen Thi Nhi',\n",
       "  'ngochant',\n",
       "  'Quang Nguyen',\n",
       "  'Lam Le',\n",
       "  '/conversations.list',\n",
       "  'MAD',\n",
       "  'conv.hist',\n",
       "  'abc',\n",
       "  'test.gettoken'],\n",
       " 'title': ['',\n",
       "  '',\n",
       "  '',\n",
       "  'Technical Contents',\n",
       "  '',\n",
       "  '',\n",
       "  '',\n",
       "  '',\n",
       "  '',\n",
       "  '',\n",
       "  '',\n",
       "  '',\n",
       "  '',\n",
       "  '',\n",
       "  '',\n",
       "  '',\n",
       "  '',\n",
       "  '',\n",
       "  '',\n",
       "  '',\n",
       "  '',\n",
       "  '',\n",
       "  '',\n",
       "  '',\n",
       "  '',\n",
       "  '',\n",
       "  '',\n",
       "  '',\n",
       "  '',\n",
       "  '',\n",
       "  '',\n",
       "  '',\n",
       "  'Learner',\n",
       "  '',\n",
       "  'Business Analyst ',\n",
       "  'Volunteer - Event team',\n",
       "  '',\n",
       "  '',\n",
       "  '',\n",
       "  '',\n",
       "  '',\n",
       "  '',\n",
       "  '',\n",
       "  '',\n",
       "  '',\n",
       "  '',\n",
       "  '',\n",
       "  '',\n",
       "  '',\n",
       "  '',\n",
       "  '',\n",
       "  '',\n",
       "  'Mentor',\n",
       "  '',\n",
       "  '',\n",
       "  '',\n",
       "  '',\n",
       "  '',\n",
       "  '',\n",
       "  '',\n",
       "  '',\n",
       "  '',\n",
       "  '',\n",
       "  '',\n",
       "  '',\n",
       "  '',\n",
       "  '',\n",
       "  '',\n",
       "  '',\n",
       "  '',\n",
       "  '',\n",
       "  ''],\n",
       " 'phone': ['',\n",
       "  '',\n",
       "  '',\n",
       "  '',\n",
       "  '',\n",
       "  '',\n",
       "  '',\n",
       "  '',\n",
       "  '',\n",
       "  '',\n",
       "  '',\n",
       "  '',\n",
       "  '',\n",
       "  '',\n",
       "  '',\n",
       "  '',\n",
       "  '',\n",
       "  '',\n",
       "  '',\n",
       "  '',\n",
       "  '',\n",
       "  '',\n",
       "  '0703988802',\n",
       "  '',\n",
       "  '',\n",
       "  '',\n",
       "  '',\n",
       "  '',\n",
       "  '',\n",
       "  '',\n",
       "  '',\n",
       "  '',\n",
       "  '',\n",
       "  '',\n",
       "  '0899306779',\n",
       "  '0931230697',\n",
       "  '',\n",
       "  '',\n",
       "  '',\n",
       "  '',\n",
       "  '',\n",
       "  '',\n",
       "  '',\n",
       "  '',\n",
       "  '',\n",
       "  '',\n",
       "  '',\n",
       "  '',\n",
       "  '',\n",
       "  '',\n",
       "  '',\n",
       "  '',\n",
       "  '',\n",
       "  '',\n",
       "  '',\n",
       "  '',\n",
       "  '',\n",
       "  '',\n",
       "  '',\n",
       "  '',\n",
       "  '',\n",
       "  '',\n",
       "  '',\n",
       "  '',\n",
       "  '',\n",
       "  '',\n",
       "  '',\n",
       "  '',\n",
       "  '',\n",
       "  '',\n",
       "  '',\n",
       "  ''],\n",
       " 'is_bot': [False,\n",
       "  False,\n",
       "  False,\n",
       "  False,\n",
       "  False,\n",
       "  False,\n",
       "  False,\n",
       "  False,\n",
       "  False,\n",
       "  False,\n",
       "  False,\n",
       "  False,\n",
       "  False,\n",
       "  False,\n",
       "  False,\n",
       "  False,\n",
       "  False,\n",
       "  False,\n",
       "  False,\n",
       "  True,\n",
       "  False,\n",
       "  False,\n",
       "  False,\n",
       "  False,\n",
       "  False,\n",
       "  False,\n",
       "  False,\n",
       "  False,\n",
       "  False,\n",
       "  False,\n",
       "  False,\n",
       "  False,\n",
       "  False,\n",
       "  False,\n",
       "  False,\n",
       "  False,\n",
       "  False,\n",
       "  False,\n",
       "  False,\n",
       "  False,\n",
       "  False,\n",
       "  False,\n",
       "  False,\n",
       "  False,\n",
       "  False,\n",
       "  False,\n",
       "  False,\n",
       "  False,\n",
       "  False,\n",
       "  False,\n",
       "  False,\n",
       "  False,\n",
       "  False,\n",
       "  False,\n",
       "  False,\n",
       "  False,\n",
       "  True,\n",
       "  False,\n",
       "  False,\n",
       "  False,\n",
       "  False,\n",
       "  False,\n",
       "  False,\n",
       "  False,\n",
       "  True,\n",
       "  False,\n",
       "  False,\n",
       "  True,\n",
       "  True,\n",
       "  True,\n",
       "  True,\n",
       "  True]}"
      ]
     },
     "execution_count": 42,
     "metadata": {},
     "output_type": "execute_result"
    }
   ],
   "source": [
    "user_dict"
   ]
  },
  {
   "cell_type": "code",
   "execution_count": 43,
   "metadata": {
    "colab": {
     "base_uri": "https://localhost:8080/",
     "height": 204
    },
    "id": "yGNvsCauF8_w",
    "outputId": "dfc4c6f7-845c-4202-8fc7-43aeb328554a"
   },
   "outputs": [
    {
     "data": {
      "text/html": [
       "<div>\n",
       "<style scoped>\n",
       "    .dataframe tbody tr th:only-of-type {\n",
       "        vertical-align: middle;\n",
       "    }\n",
       "\n",
       "    .dataframe tbody tr th {\n",
       "        vertical-align: top;\n",
       "    }\n",
       "\n",
       "    .dataframe thead th {\n",
       "        text-align: right;\n",
       "    }\n",
       "</style>\n",
       "<table border=\"1\" class=\"dataframe\">\n",
       "  <thead>\n",
       "    <tr style=\"text-align: right;\">\n",
       "      <th></th>\n",
       "      <th>user_id</th>\n",
       "      <th>name</th>\n",
       "      <th>display_name</th>\n",
       "      <th>real_name</th>\n",
       "      <th>title</th>\n",
       "      <th>phone</th>\n",
       "      <th>is_bot</th>\n",
       "    </tr>\n",
       "  </thead>\n",
       "  <tbody>\n",
       "    <tr>\n",
       "      <th>0</th>\n",
       "      <td>USLACKBOT</td>\n",
       "      <td>slackbot</td>\n",
       "      <td>Slackbot</td>\n",
       "      <td>Slackbot</td>\n",
       "      <td></td>\n",
       "      <td></td>\n",
       "      <td>False</td>\n",
       "    </tr>\n",
       "    <tr>\n",
       "      <th>1</th>\n",
       "      <td>U01AT4T75JB</td>\n",
       "      <td>loclexuan26392</td>\n",
       "      <td>Loc Le Xuan</td>\n",
       "      <td>Loc Le Xuan</td>\n",
       "      <td></td>\n",
       "      <td></td>\n",
       "      <td>False</td>\n",
       "    </tr>\n",
       "    <tr>\n",
       "      <th>2</th>\n",
       "      <td>U01AVDY7JET</td>\n",
       "      <td>locle.ds</td>\n",
       "      <td>Loc Le Xuan</td>\n",
       "      <td>Loc Le Xuan</td>\n",
       "      <td></td>\n",
       "      <td></td>\n",
       "      <td>False</td>\n",
       "    </tr>\n",
       "    <tr>\n",
       "      <th>3</th>\n",
       "      <td>U01BE2PR6LU</td>\n",
       "      <td>maianhdang.ftu</td>\n",
       "      <td>MAD</td>\n",
       "      <td>Dặng Huỳnh Mai Anh</td>\n",
       "      <td>Technical Contents</td>\n",
       "      <td></td>\n",
       "      <td>False</td>\n",
       "    </tr>\n",
       "    <tr>\n",
       "      <th>4</th>\n",
       "      <td>U01C48T7S1J</td>\n",
       "      <td>huyenhoang.design</td>\n",
       "      <td>Thanh Huyen Hoang</td>\n",
       "      <td>Thanh Huyen Hoang</td>\n",
       "      <td></td>\n",
       "      <td></td>\n",
       "      <td>False</td>\n",
       "    </tr>\n",
       "  </tbody>\n",
       "</table>\n",
       "</div>"
      ],
      "text/plain": [
       "       user_id               name       display_name           real_name  \\\n",
       "0    USLACKBOT           slackbot           Slackbot            Slackbot   \n",
       "1  U01AT4T75JB     loclexuan26392        Loc Le Xuan         Loc Le Xuan   \n",
       "2  U01AVDY7JET           locle.ds        Loc Le Xuan         Loc Le Xuan   \n",
       "3  U01BE2PR6LU     maianhdang.ftu                MAD  Dặng Huỳnh Mai Anh   \n",
       "4  U01C48T7S1J  huyenhoang.design  Thanh Huyen Hoang   Thanh Huyen Hoang   \n",
       "\n",
       "                title phone  is_bot  \n",
       "0                             False  \n",
       "1                             False  \n",
       "2                             False  \n",
       "3  Technical Contents         False  \n",
       "4                             False  "
      ]
     },
     "execution_count": 43,
     "metadata": {},
     "output_type": "execute_result"
    }
   ],
   "source": [
    "user_df = pd.DataFrame(user_dict) ## Dùng pandas để convert dictionaries thành bảng\n",
    "user_df.head(5) ## Chỉ in 5 dòng đầu (chủ yếu để xem cấu trúc)"
   ]
  },
  {
   "cell_type": "code",
   "execution_count": 44,
   "metadata": {
    "colab": {
     "base_uri": "https://localhost:8080/",
     "height": 80
    },
    "id": "rjFcaWdt2ABM",
    "outputId": "1a114985-7608-4421-aa51-1e406cc427eb"
   },
   "outputs": [
    {
     "data": {
      "text/html": [
       "<div>\n",
       "<style scoped>\n",
       "    .dataframe tbody tr th:only-of-type {\n",
       "        vertical-align: middle;\n",
       "    }\n",
       "\n",
       "    .dataframe tbody tr th {\n",
       "        vertical-align: top;\n",
       "    }\n",
       "\n",
       "    .dataframe thead th {\n",
       "        text-align: right;\n",
       "    }\n",
       "</style>\n",
       "<table border=\"1\" class=\"dataframe\">\n",
       "  <thead>\n",
       "    <tr style=\"text-align: right;\">\n",
       "      <th></th>\n",
       "      <th>user_id</th>\n",
       "      <th>name</th>\n",
       "      <th>display_name</th>\n",
       "      <th>real_name</th>\n",
       "      <th>title</th>\n",
       "      <th>phone</th>\n",
       "      <th>is_bot</th>\n",
       "    </tr>\n",
       "  </thead>\n",
       "  <tbody>\n",
       "    <tr>\n",
       "      <th>3</th>\n",
       "      <td>U01BE2PR6LU</td>\n",
       "      <td>maianhdang.ftu</td>\n",
       "      <td>MAD</td>\n",
       "      <td>Dặng Huỳnh Mai Anh</td>\n",
       "      <td>Technical Contents</td>\n",
       "      <td></td>\n",
       "      <td>False</td>\n",
       "    </tr>\n",
       "  </tbody>\n",
       "</table>\n",
       "</div>"
      ],
      "text/plain": [
       "       user_id            name display_name           real_name  \\\n",
       "3  U01BE2PR6LU  maianhdang.ftu          MAD  Dặng Huỳnh Mai Anh   \n",
       "\n",
       "                title phone  is_bot  \n",
       "3  Technical Contents         False  "
      ]
     },
     "execution_count": 44,
     "metadata": {},
     "output_type": "execute_result"
    }
   ],
   "source": [
    "user_df[user_df.display_name == 'MAD'] ## Lọc thông tin của MAD, trên DataFrame (bạn có thể Google thêm)"
   ]
  },
  {
   "cell_type": "markdown",
   "metadata": {
    "id": "1TZrcaWZyE07"
   },
   "source": [
    "-------------- HẾT PHẦN BẮT BUỘC ---------------------"
   ]
  },
  {
   "cell_type": "markdown",
   "metadata": {
    "id": "P3_b7zw-1A6s"
   },
   "source": [
    "## Option 1: Update data => Google SpreadSheet"
   ]
  },
  {
   "cell_type": "markdown",
   "metadata": {
    "id": "UPuXhw3WtmWw"
   },
   "source": [
    "### TODO#2\n",
    "Tạo service account (output là file json), file này để cho phép ta access vào Google Spreadsheet:\n",
    "\n",
    "1. Làm theo hướng dẫn: [Google Create a Service Account](https://support.google.com/a/answer/7378726?hl=en)\n",
    "![google_service_account](../img/google_service_account.png)\n",
    "2. Lưu file JSON (chứa credential về máy)\n",
    "![gservice_acc_json](../img/gservice_acc_json.png)\n",
    "3. Nhớ Enable [Google Drive API](https://console.cloud.google.com/marketplace/product/google/drive.googleapis.com?q=search&referrer=search&project=quickstart-313303) (Nếu bạn chạy code báo lỗi chưa enable API thì vào link trong phần lỗi để Enable, sau khi kích hoạt có thể cần vài phút để chạy được)\n",
    "![enable_api](../img/enable_api.png)\n",
    "* ==> Upload file Gsheet Credential JSON nếu bạn dùng Colab \n",
    "* ==> Nếu bạn để key trong repo git, **NHỚ** để file json vào `.gitignore` để không bị leaked key)\n"
   ]
  },
  {
   "cell_type": "code",
   "execution_count": 47,
   "metadata": {
    "colab": {
     "base_uri": "https://localhost:8080/"
    },
    "id": "XhrcVjXWwldS",
    "outputId": "63133330-f68b-4adf-96a1-6d2c0e08dc70"
   },
   "outputs": [
    {
     "name": "stdout",
     "output_type": "stream",
     "text": [
      " Volume in drive C is Windows \n",
      " Volume Serial Number is 1A98-A818\n",
      "\n",
      " Directory of C:\\Users\\USER\\OneDrive\\Documents\\GitHub\\atom-assignments\\assignment_3\n",
      "\n",
      "05/22/2021  06:44 AM    <DIR>          .\n",
      "05/22/2021  06:44 AM    <DIR>          ..\n",
      "05/20/2021  01:44 PM    <DIR>          .ipynb_checkpoints\n",
      "05/22/2021  02:16 AM               228 env_variable.json\n",
      "05/22/2021  02:24 AM            49.534 home_assignment_3.ipynb\n",
      "05/22/2021  06:42 AM             2.337 profound-surf-279515-d4b3de59c4f9.json\n",
      "05/20/2021  01:35 PM               238 README.md\n",
      "               4 File(s)         52.337 bytes\n",
      "               3 Dir(s)  403.516.760.064 bytes free\n"
     ]
    }
   ],
   "source": [
    "ls"
   ]
  },
  {
   "cell_type": "code",
   "execution_count": 49,
   "metadata": {
    "colab": {
     "base_uri": "https://localhost:8080/"
    },
    "id": "4NEQFu-DNvFC",
    "outputId": "a855fe34-b409-4152-a218-67bfa240396f"
   },
   "outputs": [
    {
     "name": "stdout",
     "output_type": "stream",
     "text": [
      "DONE!\n"
     ]
    }
   ],
   "source": [
    "## Authorize bằng JSON\n",
    "scope = ['https://spreadsheets.google.com/feeds',\n",
    "         'https://www.googleapis.com/auth/drive']\n",
    "credentials = ServiceAccountCredentials.from_json_keyfile_name(\n",
    "    'profound-surf-279515-d4b3de59c4f9.json', scope)\n",
    "gc = gspread.authorize(credentials)\n",
    "print(\"DONE!\")"
   ]
  },
  {
   "cell_type": "markdown",
   "metadata": {
    "id": "HELBp0Sdxhzc"
   },
   "source": [
    "**Tạo Spreadsheet**\n",
    "\n",
    "1. Tạo Spreadsheet trên google\n",
    "2. Invite account trong `client_email` (file JSON Gsheet Credential bên trên) vào Spreadsheet (quyền Editor)\n",
    "![enable_api](../img/enable_api.png)\n",
    "3. Lấy `SPREADSHEET_KEY` (nằm trong chính URL của Spreadhstee): `https://docs.google.com/spreadsheets/d/<SPREADSHEET_KEY>/edit#gid=0`\n",
    "\n",
    "![add_gsheet](../img/add_gsheet.png)"
   ]
  },
  {
   "cell_type": "code",
   "execution_count": 52,
   "metadata": {
    "id": "XlZ8JNB3bZbw"
   },
   "outputs": [],
   "source": [
    "# ACCES GOOGLE SHEET\n",
    "sheet_index_no = 0\n",
    "spreadsheet_key = '1IICUA2Amk3Td3GIGGQb44lLXmXohABxOcTpBT4RHzYw' # input SPREADSHEET_KEY HERE\n",
    "sh = gc.open_by_key(spreadsheet_key)\n",
    "worksheet = sh.get_worksheet(sheet_index_no) #-> 0 - first sheet, 1 - second sheet etc. \n",
    "\n",
    "# APPEND DATA TO SHEET\n",
    "set_with_dataframe(worksheet, user_df) #-> Upload user_df vào Sheet đầu tiên trong Spreadsheet\n",
    "\n",
    "# DONE: Bây giờ bạn có thể mở spreadsheet và kiểm tra nội dung đã update chứ"
   ]
  },
  {
   "cell_type": "markdown",
   "metadata": {},
   "source": [
    "![slack_user_gsheet](../img/slack_user_gsheet.png)"
   ]
  },
  {
   "cell_type": "markdown",
   "metadata": {
    "id": "5I15m3ilyA3Y"
   },
   "source": [
    "-------------- HẾT PHẦN OPTION 1 ---------------------"
   ]
  },
  {
   "cell_type": "markdown",
   "metadata": {
    "id": "9aRN9KSczkmr"
   },
   "source": [
    "## Option 2: Ai đã nộp bài?\n"
   ]
  },
  {
   "cell_type": "markdown",
   "metadata": {
    "id": "Pw81ioUz2N0v"
   },
   "source": [
    "### Slack API: Channel List"
   ]
  },
  {
   "cell_type": "code",
   "execution_count": 53,
   "metadata": {
    "id": "fcdaDaGdz60p"
   },
   "outputs": [],
   "source": [
    "## Gọi SLACK API để list tất cả các channel\n",
    "endpoint = \"https://slack.com/api/conversations.list\"\n",
    "headers = {\"Authorization\": \"Bearer {}\".format(os.environ['SLACK_BEARER_TOKEN'])}\n",
    "response = requests.post(endpoint, headers=headers).json() \n",
    "channel_ls = response['channels']"
   ]
  },
  {
   "cell_type": "code",
   "execution_count": 59,
   "metadata": {
    "colab": {
     "base_uri": "https://localhost:8080/"
    },
    "id": "47dUJAPi0Jg5",
    "outputId": "2762f1e8-ff65-4994-c3e5-1ab0f5dc9205"
   },
   "outputs": [
    {
     "data": {
      "text/plain": [
       "{'id': 'C0227A51SAY',\n",
       " 'name': 'atom-assignment3',\n",
       " 'is_channel': True,\n",
       " 'is_group': False,\n",
       " 'is_im': False,\n",
       " 'created': 1621125573,\n",
       " 'is_archived': False,\n",
       " 'is_general': False,\n",
       " 'unlinked': 0,\n",
       " 'name_normalized': 'atom-assignment3',\n",
       " 'is_shared': False,\n",
       " 'parent_conversation': None,\n",
       " 'creator': 'U01BE2PR6LU',\n",
       " 'is_ext_shared': False,\n",
       " 'is_org_shared': False,\n",
       " 'shared_team_ids': ['T01B7SGGMLJ'],\n",
       " 'pending_shared': [],\n",
       " 'pending_connected_team_ids': [],\n",
       " 'is_pending_ext_shared': False,\n",
       " 'is_member': False,\n",
       " 'is_private': False,\n",
       " 'is_mpim': False,\n",
       " 'topic': {'value': '', 'creator': '', 'last_set': 0},\n",
       " 'purpose': {'value': '', 'creator': '', 'last_set': 0},\n",
       " 'previous_names': [],\n",
       " 'num_members': 33}"
      ]
     },
     "execution_count": 59,
     "metadata": {},
     "output_type": "execute_result"
    }
   ],
   "source": [
    "channel_ls[-1] ## Thử extract record đầu tiên để xem schema  => name: general, id: C01B4PVGLVB"
   ]
  },
  {
   "cell_type": "markdown",
   "metadata": {
    "id": "CNFTcFC00l8g"
   },
   "source": [
    "### TODO#3 \n",
    "* Tìm id của channel #atom-assignment2"
   ]
  },
  {
   "cell_type": "markdown",
   "metadata": {
    "id": "EnCvdYAn2R47"
   },
   "source": [
    "### Slack API: List messages trong 1 channel"
   ]
  },
  {
   "cell_type": "code",
   "execution_count": 55,
   "metadata": {
    "id": "1UsSESN8rtnk"
   },
   "outputs": [],
   "source": [
    "endpoint = \"https://slack.com/api/conversations.history\"\n",
    "data = {\"channel\": \"C021FSDN7LJ\"} ## This is ID of assignment#1 channel\n",
    "headers = {\"Authorization\": \"Bearer {}\".format(os.environ['SLACK_BEARER_TOKEN'])}"
   ]
  },
  {
   "cell_type": "code",
   "execution_count": 65,
   "metadata": {
    "id": "i8eJw3LBr4lY"
   },
   "outputs": [],
   "source": [
    "response_json = requests.post(endpoint, data=data, headers=headers).json()\n",
    "msg_ls = response_json['messages']\n",
    "# response_json"
   ]
  },
  {
   "cell_type": "code",
   "execution_count": 66,
   "metadata": {
    "colab": {
     "base_uri": "https://localhost:8080/"
    },
    "id": "KkYO1KcBtZa9",
    "outputId": "7a76397b-202b-445e-aa26-f4b30cfc9a53"
   },
   "outputs": [
    {
     "data": {
      "text/plain": [
       "{'client_msg_id': '1195e494-1ead-4bc0-93d5-0f9ad0137655',\n",
       " 'type': 'message',\n",
       " 'text': '<https://github.com/danhpcv/atom-assignments/tree/main/assignment_2> minh gui bai tap nhe',\n",
       " 'user': 'U01UJ9LG5U5',\n",
       " 'ts': '1621043199.002700',\n",
       " 'team': 'T01B7SGGMLJ',\n",
       " 'blocks': [{'type': 'rich_text',\n",
       "   'block_id': 'HPEPO',\n",
       "   'elements': [{'type': 'rich_text_section',\n",
       "     'elements': [{'type': 'link',\n",
       "       'url': 'https://github.com/danhpcv/atom-assignments/tree/main/assignment_2'},\n",
       "      {'type': 'text', 'text': ' minh gui bai tap nhe'}]}]}],\n",
       " 'reactions': [{'name': 'construction', 'users': ['U01UEJFMUSJ'], 'count': 1}]}"
      ]
     },
     "execution_count": 66,
     "metadata": {},
     "output_type": "execute_result"
    }
   ],
   "source": [
    "msg_ls[21]"
   ]
  },
  {
   "cell_type": "code",
   "execution_count": 70,
   "metadata": {},
   "outputs": [
    {
     "data": {
      "text/plain": [
       "70"
      ]
     },
     "execution_count": 70,
     "metadata": {},
     "output_type": "execute_result"
    }
   ],
   "source": [
    "len(msg_ls)"
   ]
  },
  {
   "cell_type": "code",
   "execution_count": 67,
   "metadata": {
    "id": "BsW8CXAXv-tC"
   },
   "outputs": [],
   "source": [
    "not_learners_id = ['U01BE2PR6LU']"
   ]
  },
  {
   "cell_type": "code",
   "execution_count": 91,
   "metadata": {
    "colab": {
     "base_uri": "https://localhost:8080/"
    },
    "id": "XOvJ5kGCsmAD",
    "outputId": "79567aaf-62bd-4091-deca-6e13c1c80e79"
   },
   "outputs": [
    {
     "name": "stdout",
     "output_type": "stream",
     "text": [
      "2021-05-17 07:28:18.005500 U01UTGRMGEQ    https://github.com/nguyenhonghanh2511/\n",
      "2021-05-15 09:01:57.003500 U01UJ9M3P1T    https://github.com/cnhhoang850/\n",
      "2021-05-15 06:54:46.001200 U01UJ9P1S3X 1 ['U01V00JK9LH'] 2021-05-21 00:57:31.020900 https://github.com/lethuthao1368/\n",
      "2021-05-15 01:14:27.022900 U01UTGVPE7N 1 ['U01V00JK9LH'] 2021-05-21 00:57:31.020900 https://github.com/hoaintp/\n",
      "2021-05-14 23:57:51.019900 U01UMJ451V1 3 ['U01UMJ451V1', 'U01UMC0N5U2', 'U01UMJ36QD9'] 2021-05-21 21:25:32.007200 https://github.com/annaho124/\n",
      "2021-05-14 23:15:27.016800 U01UQGZHSTZ 3 ['U01UMJ451V1', 'U01UMC0N5U2', 'U01UMJ36QD9'] 2021-05-21 21:25:32.007200 https://github.com/annaho124/\n",
      "2021-05-14 21:48:22.014500 U01UMC0N5U2 3 ['U01UMJ36QD9', 'U01UMC0N5U2', 'U01UMBW8G8J'] 2021-05-21 22:54:10.007600 https://github.com/chuviethongfpt/\n",
      "2021-05-14 00:24:49.011300 U01UTGT8CVA 1 ['U01UMJ451V1'] 2021-05-21 21:10:06.006600 https://github.com/ngttnguyen/\n",
      "2021-05-11 19:11:45.002800 U01UJ9MUADT 1 ['U01UMJ451V1'] 2021-05-21 21:10:06.006600 https://github.com/ngttnguyen/\n"
     ]
    }
   ],
   "source": [
    "## Summarize all submitted assignments + reviews cnt\n",
    "not_learners_id = ['U01BE2PR6LU'] # -> Remove MA from the user_id\n",
    "github, reply_count, reply_users_count, reply_users, latest_reply = '','','','',''\n",
    "for i in range(70):\n",
    "    ts = dt.fromtimestamp(float(msg_ls[i]['ts'])) # -> Convert timestamp Epoch thành dàng dễ đọc\n",
    "    user = msg_ls[i]['user'] # -> Lấy thông tin người post messages\n",
    "    if msg_ls[i]['user'] not in not_learners_id:\n",
    "        if 'attachments' in msg_ls[i].keys():\n",
    "            #print(msg_ls[i].keys())\n",
    "            text = msg_ls[i]['text']\n",
    "            github_link = re.findall('(?:https?://)?(?:www[.])?github[.]com/[\\w-]+/?', text) #-> Submission là các message có link github\n",
    "            #print(msg_ls[i])\n",
    "            if len(github_link) > 0: github = github_link[0]\n",
    "            if 'reply_count' in msg_ls[i].keys(): reply_count = msg_ls[i]['reply_count'] #-> Extract số review\n",
    "            if 'reply_users_count' in msg_ls[i].keys(): reply_users_count = msg_ls[i]['reply_users_count']\n",
    "            if 'reply_users' in msg_ls[i].keys(): reply_users = msg_ls[i]['reply_users']\n",
    "            if 'latest_reply' in msg_ls[i].keys(): latest_reply = dt.fromtimestamp(float(msg_ls[i]['latest_reply']))\n",
    "            print(ts, user, reply_users_count, reply_users, latest_reply, github)"
   ]
  },
  {
   "cell_type": "markdown",
   "metadata": {
    "id": "SgSC21qO3kKA"
   },
   "source": [
    "### TODO#4\n",
    "* Tạo thành 1 bảng chứa các thông tin trên và update lên Spreadsheet (Sheet: Assignment#2 Submission)"
   ]
  },
  {
   "cell_type": "code",
   "execution_count": 84,
   "metadata": {},
   "outputs": [
    {
     "data": {
      "text/plain": [
       "{'github': ['https://github.com/nguyenhonghanh2511/',\n",
       "  'https://github.com/cnhhoang850/',\n",
       "  'https://github.com/lethuthao1368/',\n",
       "  'https://github.com/hoaintp/',\n",
       "  'https://github.com/annaho124/',\n",
       "  '',\n",
       "  'https://github.com/chuviethongfpt/',\n",
       "  'https://github.com/ngttnguyen/',\n",
       "  ''],\n",
       " 'reply_count': ['', '', 1, '', 4, '', 8, 1, ''],\n",
       " 'reply_users_count': ['', '', 1, '', 3, '', 3, 1, ''],\n",
       " 'reply_users': ['',\n",
       "  '',\n",
       "  ['U01V00JK9LH'],\n",
       "  '',\n",
       "  ['U01UMJ451V1', 'U01UMC0N5U2', 'U01UMJ36QD9'],\n",
       "  '',\n",
       "  ['U01UMJ36QD9', 'U01UMC0N5U2', 'U01UMBW8G8J'],\n",
       "  ['U01UMJ451V1'],\n",
       "  ''],\n",
       " 'latest_reply': ['',\n",
       "  '',\n",
       "  datetime.datetime(2021, 5, 21, 0, 57, 31, 20900),\n",
       "  '',\n",
       "  datetime.datetime(2021, 5, 21, 21, 25, 32, 7200),\n",
       "  '',\n",
       "  datetime.datetime(2021, 5, 21, 22, 54, 10, 7600),\n",
       "  datetime.datetime(2021, 5, 21, 21, 10, 6, 6600),\n",
       "  '']}"
      ]
     },
     "execution_count": 84,
     "metadata": {},
     "output_type": "execute_result"
    }
   ],
   "source": [
    "## Summarize all submitted assignments + reviews cnt\n",
    "not_learners_id = ['U01BE2PR6LU'] # -> Remove MA from the user_id\n",
    "github, reply_count, reply_users_count, reply_users, latest_reply = '','','','',''\n",
    "new_dict = {'github':[], 'reply_count':[], 'reply_users_count':[],'reply_users':[],'latest_reply':[]}\n",
    "\n",
    "for i in range(70):\n",
    "    ts = dt.fromtimestamp(float(msg_ls[i]['ts'])) # -> Convert timestamp Epoch thành dàng dễ đọc\n",
    "    user = msg_ls[i]['user'] # -> Lấy thông tin người post messages\n",
    "    if msg_ls[i]['user'] not in not_learners_id:\n",
    "        if 'attachments' in msg_ls[i].keys():\n",
    "            #print(msg_ls[i].keys())\n",
    "            text = msg_ls[i]['text']\n",
    "            github_link = re.findall('(?:https?://)?(?:www[.])?github[.]com/[\\w-]+/?', text) #-> Submission là các message có link github\n",
    "            #       print(msg_ls[i])\n",
    "           \n",
    "            new_dict['github'].append(github_link[0]) if len(github_link) > 0 else new_dict['github'].append('')\n",
    "            new_dict['reply_count'].append(msg_ls[i]['reply_count']) if 'reply_count' in msg_ls[i].keys() else new_dict['reply_count'].append('')\n",
    "            new_dict['reply_users_count'].append(msg_ls[i]['reply_users_count']) if 'reply_users_count' in msg_ls[i].keys() else new_dict['reply_users_count'].append('')\n",
    "            new_dict['reply_users'].append(msg_ls[i]['reply_users']) if 'reply_users' in msg_ls[i].keys() else new_dict['reply_users'].append('')\n",
    "            new_dict['latest_reply'].append(dt.fromtimestamp(float(msg_ls[i]['latest_reply']))) if 'latest_reply' in msg_ls[i].keys() else new_dict['latest_reply'].append('')\n",
    "\n",
    "            \n",
    "            \n",
    "new_dict"
   ]
  },
  {
   "cell_type": "code",
   "execution_count": 87,
   "metadata": {},
   "outputs": [
    {
     "data": {
      "text/html": [
       "<div>\n",
       "<style scoped>\n",
       "    .dataframe tbody tr th:only-of-type {\n",
       "        vertical-align: middle;\n",
       "    }\n",
       "\n",
       "    .dataframe tbody tr th {\n",
       "        vertical-align: top;\n",
       "    }\n",
       "\n",
       "    .dataframe thead th {\n",
       "        text-align: right;\n",
       "    }\n",
       "</style>\n",
       "<table border=\"1\" class=\"dataframe\">\n",
       "  <thead>\n",
       "    <tr style=\"text-align: right;\">\n",
       "      <th></th>\n",
       "      <th>github</th>\n",
       "      <th>reply_count</th>\n",
       "      <th>reply_users_count</th>\n",
       "      <th>reply_users</th>\n",
       "      <th>latest_reply</th>\n",
       "    </tr>\n",
       "  </thead>\n",
       "  <tbody>\n",
       "    <tr>\n",
       "      <th>0</th>\n",
       "      <td>https://github.com/nguyenhonghanh2511/</td>\n",
       "      <td></td>\n",
       "      <td></td>\n",
       "      <td></td>\n",
       "      <td>NaT</td>\n",
       "    </tr>\n",
       "    <tr>\n",
       "      <th>1</th>\n",
       "      <td>https://github.com/cnhhoang850/</td>\n",
       "      <td></td>\n",
       "      <td></td>\n",
       "      <td></td>\n",
       "      <td>NaT</td>\n",
       "    </tr>\n",
       "    <tr>\n",
       "      <th>2</th>\n",
       "      <td>https://github.com/lethuthao1368/</td>\n",
       "      <td>1</td>\n",
       "      <td>1</td>\n",
       "      <td>[U01V00JK9LH]</td>\n",
       "      <td>2021-05-21 00:57:31.020900</td>\n",
       "    </tr>\n",
       "    <tr>\n",
       "      <th>3</th>\n",
       "      <td>https://github.com/hoaintp/</td>\n",
       "      <td></td>\n",
       "      <td></td>\n",
       "      <td></td>\n",
       "      <td>NaT</td>\n",
       "    </tr>\n",
       "    <tr>\n",
       "      <th>4</th>\n",
       "      <td>https://github.com/annaho124/</td>\n",
       "      <td>4</td>\n",
       "      <td>3</td>\n",
       "      <td>[U01UMJ451V1, U01UMC0N5U2, U01UMJ36QD9]</td>\n",
       "      <td>2021-05-21 21:25:32.007200</td>\n",
       "    </tr>\n",
       "    <tr>\n",
       "      <th>5</th>\n",
       "      <td></td>\n",
       "      <td></td>\n",
       "      <td></td>\n",
       "      <td></td>\n",
       "      <td>NaT</td>\n",
       "    </tr>\n",
       "    <tr>\n",
       "      <th>6</th>\n",
       "      <td>https://github.com/chuviethongfpt/</td>\n",
       "      <td>8</td>\n",
       "      <td>3</td>\n",
       "      <td>[U01UMJ36QD9, U01UMC0N5U2, U01UMBW8G8J]</td>\n",
       "      <td>2021-05-21 22:54:10.007600</td>\n",
       "    </tr>\n",
       "    <tr>\n",
       "      <th>7</th>\n",
       "      <td>https://github.com/ngttnguyen/</td>\n",
       "      <td>1</td>\n",
       "      <td>1</td>\n",
       "      <td>[U01UMJ451V1]</td>\n",
       "      <td>2021-05-21 21:10:06.006600</td>\n",
       "    </tr>\n",
       "    <tr>\n",
       "      <th>8</th>\n",
       "      <td></td>\n",
       "      <td></td>\n",
       "      <td></td>\n",
       "      <td></td>\n",
       "      <td>NaT</td>\n",
       "    </tr>\n",
       "  </tbody>\n",
       "</table>\n",
       "</div>"
      ],
      "text/plain": [
       "                                   github reply_count reply_users_count  \\\n",
       "0  https://github.com/nguyenhonghanh2511/                                 \n",
       "1         https://github.com/cnhhoang850/                                 \n",
       "2       https://github.com/lethuthao1368/           1                 1   \n",
       "3             https://github.com/hoaintp/                                 \n",
       "4           https://github.com/annaho124/           4                 3   \n",
       "5                                                                         \n",
       "6      https://github.com/chuviethongfpt/           8                 3   \n",
       "7          https://github.com/ngttnguyen/           1                 1   \n",
       "8                                                                         \n",
       "\n",
       "                               reply_users               latest_reply  \n",
       "0                                                                 NaT  \n",
       "1                                                                 NaT  \n",
       "2                            [U01V00JK9LH] 2021-05-21 00:57:31.020900  \n",
       "3                                                                 NaT  \n",
       "4  [U01UMJ451V1, U01UMC0N5U2, U01UMJ36QD9] 2021-05-21 21:25:32.007200  \n",
       "5                                                                 NaT  \n",
       "6  [U01UMJ36QD9, U01UMC0N5U2, U01UMBW8G8J] 2021-05-21 22:54:10.007600  \n",
       "7                            [U01UMJ451V1] 2021-05-21 21:10:06.006600  \n",
       "8                                                                 NaT  "
      ]
     },
     "execution_count": 87,
     "metadata": {},
     "output_type": "execute_result"
    }
   ],
   "source": [
    "new_dict_df = pd.DataFrame(new_dict) ## Dùng pandas để convert dictionaries thành bảng\n",
    "new_dict_df ## Chỉ in 5 dòng đầu (chủ yếu để xem cấu trúc)"
   ]
  },
  {
   "cell_type": "code",
   "execution_count": 88,
   "metadata": {},
   "outputs": [],
   "source": [
    "sheet_index_no = 1 \n",
    "worksheet2 = sh.get_worksheet(sheet_index_no) #-> 0 - first sheet, 1 - second sheet etc. \n",
    "\n",
    "# APPEND DATA TO SHEET\n",
    "set_with_dataframe(worksheet2, new_dict_df)"
   ]
  },
  {
   "cell_type": "markdown",
   "metadata": {
    "id": "698exK3k35RM"
   },
   "source": [
    "-------------- HẾT PHẦN OPTION 2 ---------------------"
   ]
  }
 ],
 "metadata": {
  "colab": {
   "collapsed_sections": [],
   "name": "Slack-Data.ipynb",
   "provenance": []
  },
  "kernelspec": {
   "display_name": "Python 3",
   "language": "python",
   "name": "python3"
  },
  "language_info": {
   "codemirror_mode": {
    "name": "ipython",
    "version": 3
   },
   "file_extension": ".py",
   "mimetype": "text/x-python",
   "name": "python",
   "nbconvert_exporter": "python",
   "pygments_lexer": "ipython3",
   "version": "3.8.5"
  }
 },
 "nbformat": 4,
 "nbformat_minor": 1
}
