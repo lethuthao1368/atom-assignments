{
 "cells": [
  {
   "cell_type": "markdown",
   "metadata": {
    "id": "sQ8jh5aiy8zo"
   },
   "source": [
    "# HOME ASSIGNMENT #6: CLOUD FUNCTION & STREAMLIT\n",
    "\n",
    "**Mục đích của bài Assignment**\n",
    "> *  [Optional] Data Deploy Cloud Function \n",
    "> *  Tạo Data Apps với Streamlit\n",
    "> *  Thao tác với data bằng Pandas\n",
    "> *  Data Visualization\n",
    "\n",
    "**Các kiến thức áp dụng**\n",
    "* Slack API, JSON to DataFrame\n",
    "* GCP Cloud Function\n",
    "* Streamlit\n",
    "* Python Pandas\n",
    "* Python Data Visualization\n",
    "\n",
    "**Lời Khuyên**\n",
    "* Các bạn dành thời gian ôn lại và xâu chuỗi kiến thức\n",
    "* Review Assignment 1-5 cho ít nhất 2 bạn học viên khác"
   ]
  },
  {
   "cell_type": "code",
   "execution_count": 2,
   "metadata": {},
   "outputs": [
    {
     "name": "stdout",
     "output_type": "stream",
     "text": [
      " Volume in drive C is Windows \n",
      " Volume Serial Number is 1A98-A818\n",
      "\n",
      " Directory of C:\\Users\\USER\\OneDrive\\Documents\\GitHub\\atom-assignments\n",
      "\n",
      "06/10/2021  10:34 PM    <DIR>          .\n",
      "06/10/2021  10:34 PM    <DIR>          ..\n",
      "06/10/2021  10:36 PM               168 .gitignore\n",
      "06/10/2021  10:43 PM    <DIR>          assignment_2\n",
      "06/03/2021  10:26 PM    <DIR>          assignment_3\n",
      "06/10/2021  10:34 PM    <DIR>          assignment_4\n",
      "06/03/2021  11:39 PM    <DIR>          assignment_5\n",
      "06/10/2021  10:45 PM    <DIR>          assignment_6\n",
      "06/10/2021  10:34 PM    <DIR>          data\n",
      "06/10/2021  10:34 PM    <DIR>          gcp-cloud-function\n",
      "06/10/2021  10:34 PM    <DIR>          img\n",
      "05/15/2021  04:26 AM             1,086 LICENSE\n",
      "05/22/2021  12:59 AM    <DIR>          python-for-data\n",
      "06/02/2021  08:54 PM             1,877 README.md\n",
      "06/10/2021  10:34 PM    <DIR>          streamlit\n",
      "               3 File(s)          3,131 bytes\n",
      "              12 Dir(s)  393,842,540,544 bytes free\n"
     ]
    }
   ],
   "source": [
    "ls .."
   ]
  },
  {
   "cell_type": "markdown",
   "metadata": {},
   "source": [
    "# TODO 1: Python Data Viz\n",
    "Hoàn tất các sets bài tập trên [Kaggle Data Visualization](https://www.kaggle.com/learn/data-visualization) - Nếu chưa hoàn thành trong [Assignment 5](https://github.com/anhdanggit/atom-assignments/blob/main/assignment_5/home_assignment_5.ipynb)"
   ]
  },
  {
   "cell_type": "code",
   "execution_count": 14,
   "metadata": {},
   "outputs": [],
   "source": [
    "# Copy các link Kaggle sau:\n",
    "## 1. Link tới Kaggle Account của bạn -----> \n",
    "## 2. Link tới các bài tập\n",
    "## DataViz 1: ---> https://www.kaggle.com/lee1368/exercise-hello-seaborn\n",
    "## DataViz 2: ---> https://www.kaggle.com/lee1368/exercise-line-charts\n",
    "## DataViz 3: ---> https://www.kaggle.com/lee1368/exercise-bar-charts-and-heatmaps/edit (not finish yet)\n",
    "## DataViz 4: --->\n",
    "## DataViz 5: --->\n",
    "## DataViz 6: --->\n",
    "## DataViz 7: --->"
   ]
  },
  {
   "cell_type": "markdown",
   "metadata": {
    "id": "t28PUQoNzy1k"
   },
   "source": [
    "# TODO 2 (OPTIONAL): DEPLOY GOOGLE CLOUD FUNCTION\n",
    "* Làm theo Lab của Week 6: [HERE](https://anhdang.gitbook.io/datacracy/atom/6-cloud-function-and-streamlit/6.2-lab-cloud-function-hands-on)\n",
    "* Click đôi vào các tab Markdown bên dưới để trả lời các câu hỏi ([Markdown Cheatsheet](https://guides.github.com/features/mastering-markdown/))"
   ]
  },
  {
   "cell_type": "markdown",
   "metadata": {},
   "source": [
    "## Screenshot Cloud Function on GCP\n",
    "> *Copy Screenshot vào folder img trong repo, và đổi link bên dưới*\n",
    "\n",
    "![Cloud Function Deployed](/img/yourscreenshot.png)"
   ]
  },
  {
   "cell_type": "code",
   "execution_count": null,
   "metadata": {},
   "outputs": [],
   "source": []
  },
  {
   "cell_type": "markdown",
   "metadata": {},
   "source": [
    "## Screenshot Cloud Function Testing on GCP\n",
    "> *Copy Screenshot vào folder img trong repo, và đổi link bên dưới*\n",
    "\n",
    "![\bCloud Function Testing](../img/yourscreenshot.png)"
   ]
  },
  {
   "cell_type": "code",
   "execution_count": null,
   "metadata": {},
   "outputs": [],
   "source": []
  },
  {
   "cell_type": "markdown",
   "metadata": {
    "id": "2QUVZlLm00PG"
   },
   "source": [
    "## Screenshot Cloud Function Call on Postman\n",
    "> *Copy Screenshot vào folder img trong repo, và đổi link bên dưới*\n",
    "\n",
    "![\bCloud Function on Postman](../img/yourscreenshot.png)"
   ]
  },
  {
   "cell_type": "code",
   "execution_count": null,
   "metadata": {},
   "outputs": [],
   "source": []
  },
  {
   "cell_type": "markdown",
   "metadata": {
    "id": "u5c_Lx9MyzSF"
   },
   "source": [
    "## Các lỗi gặp trong quá trình thực hiện \n",
    "*Liên kê bên dưới các lỗi bạn gặp và các giải quyết*\n",
    "\n",
    "1. \n",
    "2. \n",
    "3. "
   ]
  },
  {
   "cell_type": "code",
   "execution_count": null,
   "metadata": {},
   "outputs": [],
   "source": []
  },
  {
   "cell_type": "markdown",
   "metadata": {
    "id": "bT_ziqVJ1COI"
   },
   "source": [
    "# TODO 3: HIỂU & DIAGRAM CODE STREAMLIT \n",
    "Mình thường khuyên các bạn mới học code rằng:\n",
    "\n",
    "> Hãy code với một cây bút chì và tờ giấy\n",
    "\n",
    "Như thế nào?\n",
    "\n",
    "1. Đầu tiên, là hình dung trong đầu: Bạn sẽ bắt đầu từ gì (`inputs`) và cho ra những gì (`output`)\n",
    "2. Rồi, để đi từ inputs đến outputs thì bạn cần thực hiện những bước nào (các `functions`)\n",
    "\n",
    "Bạn có thể vẽ ra một diagram như vậy giúp bạn:\n",
    "* Nhìn bức tranh lớn, và không bị sa đà vào tiểu tiết, syntax\n",
    "* Rõ ràng hơn về flow \n",
    "* Giúp bạn tối ưu flow trước, rồi sau đó code sẽ thuận lợi hơn\n",
    "* Rất hiệu quả để bạn debugs trong tương lai\n",
    "\n",
    "Tham khảo Diagram sau của [streamlit/data_glimpse.py](https://github.com/anhdanggit/atom-assignments/blob/main/streamlit/data_glimpse.py) và vẽ diagram theo cách hiểu của bạn cho [streamlit/datacracy_slack.py](https://github.com/anhdanggit/atom-assignments/blob/main/streamlit/datacracy_slack.py)"
   ]
  },
  {
   "cell_type": "markdown",
   "metadata": {},
   "source": [
    "## Diagram Data Glimpse Apps\n",
    "> Bên dưới là ví dụ Diagram của app [streamlit/data_glimpse.py](https://github.com/anhdanggit/atom-assignments/blob/main/streamlit/data_glimpse.py)\n",
    "\n",
    "![data-glimpse-diagream](../img/streamlit-Data-Glimpse-Diagram.png)"
   ]
  },
  {
   "cell_type": "markdown",
   "metadata": {},
   "source": [
    "## DataCracy Slack \n",
    "> Là apps để tổng hợp lịch sử nộp bài, review và discussion của Datacracy Learners\n",
    "![Datacracy-slack-streamlit](../img/dataCracy-slack-streamlit.png)"
   ]
  },
  {
   "cell_type": "markdown",
   "metadata": {},
   "source": [
    "## Diagram DataCracy Slack Apps\n",
    "* Xem code của app [streamlit/datacracy_slack.py](https://github.com/anhdanggit/atom-assignments/blob/main/streamlit/datacracy_slack.py)\n",
    "> *Copy Diagram bạn vẽ vào folder img trong repo, và đổi link bên dưới*\n",
    "\n",
    "![datacracy-slack-diagram](../img/IMG_0912.png)"
   ]
  },
  {
   "cell_type": "markdown",
   "metadata": {},
   "source": [
    "## Giải thích \n",
    "Xem code của app [streamlit/datacracy_slack.py](https://github.com/anhdanggit/atom-assignments/blob/main/streamlit/datacracy_slack.py):\n",
    "\n",
    "1. Trong mỗi function (steps) trong Diagram của bạn, giải thích function làm những việc gì?\n",
    "2. Liệt kê các logics được áp dụng để xử lý data?"
   ]
  },
  {
   "cell_type": "code",
   "execution_count": 17,
   "metadata": {},
   "outputs": [],
   "source": [
    "'''\n",
    "1. Trong mỗi function, chức năng của từng fucntion là:\n",
    "load_user_df (channle/ msg): load data từ slack API\n",
    "process_msg_data: từ bảng msg_df lấy ra những người đã review (reply_users),  thêm tên user và channel\n",
    "2. Logic áp dụng để xử lý data\n",
    "- Check invalid user: check trong user_df.user_id == user_id\n",
    "- Lọc ra toàn bộ thông tin liên quan đến user_id đó (filter_user_id/msg/p_msg_df)\n",
    "- Tính submission bằng cách lấy msg có latest ts groupby each channel\n",
    "- Tính review bằng cách: review user_id ra khỏi bảng p_msg_df (bỏ những tin mình tự report), lọc theo channel assignment và người reviewer là learner\n",
    "- Tính discussion: lấy message trong channel có 'discuss', sort by time (date + time)\n",
    "- Tính summary:\n",
    "    Đã nộp: len(submit_df)\n",
    "    Được review\" 100* reply_user_count / total đã nộp\n",
    "    Đã review: len(review_df)\n",
    "    Thảo luận: số chữ trong discuss_df\n",
    "'''"
   ]
  },
  {
   "cell_type": "code",
   "execution_count": null,
   "metadata": {
    "id": "UccXW_FH4Glg"
   },
   "outputs": [],
   "source": []
  },
  {
   "cell_type": "markdown",
   "metadata": {},
   "source": [
    "# TODO 4: VISUALIZATION ON STREAMLIT\n",
    "Áp dụng kiến thức đã học trong *TODO 1* + Pandas thực hiện các tasks sau:\n",
    "\n",
    "1. Tổng hợp cho tất cả learners các chỉ số sau: \n",
    "    * Số assignment đã nộp\n",
    "    * % bài được review \n",
    "    * Số workcount đã thảo luận \n",
    "    * Extract thứ trong tuần (weekday) của ngày nộp bài \n",
    "    * Extract giờ trong ngày nộp bài (hour)\n",
    "    \n",
    "4. Vẽ biểu đồ thể hiện phân phối (Distribution - [Kaggle Tutorial](https://www.kaggle.com/alexisbcook/distributions)) của các thông số trên và add vào app Streamlit"
   ]
  },
  {
   "cell_type": "code",
   "execution_count": null,
   "metadata": {},
   "outputs": [],
   "source": []
  }
 ],
 "metadata": {
  "colab": {
   "name": "home_assignment_5.ipynb",
   "provenance": [],
   "toc_visible": true
  },
  "kernelspec": {
   "display_name": "Python 3",
   "language": "python",
   "name": "python3"
  },
  "language_info": {
   "codemirror_mode": {
    "name": "ipython",
    "version": 3
   },
   "file_extension": ".py",
   "mimetype": "text/x-python",
   "name": "python",
   "nbconvert_exporter": "python",
   "pygments_lexer": "ipython3",
   "version": "3.8.5"
  }
 },
 "nbformat": 4,
 "nbformat_minor": 1
}
