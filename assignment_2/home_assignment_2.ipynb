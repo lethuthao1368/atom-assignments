{
 "cells": [
  {
   "cell_type": "markdown",
   "metadata": {
    "colab_type": "text",
    "id": "view-in-github"
   },
   "source": [
    "<a href=\"https://colab.research.google.com/github/anhdanggit/atom-assignments/blob/main/assignment_2/ATOM_Home_Assignment_2.ipynb\" target=\"_parent\"><img src=\"https://colab.research.google.com/assets/colab-badge.svg\" alt=\"Open In Colab\"/></a>"
   ]
  },
  {
   "cell_type": "markdown",
   "metadata": {
    "id": "WNjHxu0-0Urk"
   },
   "source": [
    "## 0. Initial Set-up"
   ]
  },
  {
   "cell_type": "markdown",
   "metadata": {
    "id": "ky3QJTULRGhG"
   },
   "source": [
    "1. Clone this Github repo về máy: https://github.com/anhdanggit/atom-assignments\n",
    "2. Mở file `env_variable_test.json`. Thay đổi & Đổi tên thành `env_variable.json`: \n",
    "  - `\"SENDER_EMAIL\"`: Email của bạn\n",
    "  - `\"PWD_EMAIL\"`: App Password tương ứng với Email trên (Hướng Dẫn: [link](https://support.google.com/accounts/answer/185833?p=InvalidSecondFactor&visit_id=637562139468610337-3856071038&rd=1))\n",
    "  - `\"WEATHER_API_KEY\"`: API Key của account của bạn trên [Open Weather Map](https://support.google.com/accounts/answer/185833?p=InvalidSecondFactor&visit_id=637562139468610337-3856071038&rd=1)\n",
    "3. Upload lên Files hoặc Google Drive, nếu bạn sử dụng Google Colab.\n",
    "\n",
    "**!!!! NOTICE !!!!** File json sau khi cho các thông tin thực của bạn, KHÔNG đưa lên Github hay để public. Tips: Để tên `env_variable.json` trong file `.gitignore` để Git tự động ignore không publish file này."
   ]
  },
  {
   "cell_type": "markdown",
   "metadata": {
    "id": "mQHvoBrV2wAS"
   },
   "source": [
    "### 0.1. Environment Variables"
   ]
  },
  {
   "cell_type": "markdown",
   "metadata": {
    "id": "wsarlH3fTc0_"
   },
   "source": [
    "Đặt `!` phía trước 1 cell để bắt đầu viết lệnh [Shell Commands](https://docs.cs.cf.ac.uk/notes/linux-shell-commands/) (đây là các lệnh giao tiếp với OS - Hệ điều hành đang dùng bên dưới để chạy Colab Notebook)"
   ]
  },
  {
   "cell_type": "code",
   "execution_count": 1,
   "metadata": {},
   "outputs": [
    {
     "name": "stdout",
     "output_type": "stream",
     "text": [
      "C:\\Users\\USER\\OneDrive\\Documents\\GitHub\\atom-assignments\\assignment_2\n"
     ]
    }
   ],
   "source": [
    "cd C:\\Users\\USER\\OneDrive\\Documents\\GitHub\\atom-assignments\\assignment_2"
   ]
  },
  {
   "cell_type": "code",
   "execution_count": 1,
   "metadata": {
    "id": "j3Fv0NUdXyd1"
   },
   "outputs": [],
   "source": [
    "import json\n",
    "with open('env_variable.json', 'r') as j:\n",
    "    json_data = json.load(j)\n",
    "    "
   ]
  },
  {
   "cell_type": "code",
   "execution_count": 4,
   "metadata": {},
   "outputs": [
    {
     "name": "stdout",
     "output_type": "stream",
     "text": [
      "lethuthao1368@gmail.com\n"
     ]
    }
   ],
   "source": [
    "print(json_data['SENDER_EMAIL'])"
   ]
  },
  {
   "cell_type": "markdown",
   "metadata": {
    "id": "ZWYv-VjeZpK2"
   },
   "source": [
    "### Concept: JSON File\n",
    "* JSON là một dạng đa ta phổ biến, có dạng key-value. Nghĩa là những giá trị bên trong có thể \"gọi\" bằng các key, tương tự cấu trúc của Dictionary (Week 2)\n",
    "* Reference: [JSON Data in Python](https://www.datacamp.com/community/tutorials/json-data-python?utm_source=adwords_ppc&utm_campaignid=1455363063&utm_adgroupid=65083631748&utm_device=c&utm_keyword=&utm_matchtype=b&utm_network=g&utm_adpostion=&utm_creative=278443377095&utm_targetid=aud-522010995285:dsa-429603003980&utm_loc_interest_ms=&utm_loc_physical_ms=1028581&gclid=Cj0KCQjws-OEBhCkARIsAPhOkIYshv7eHMZhcLYnRmnCVdoXMbchc_nxeSYbyoGnSlauIGaJWudvBf8aAql6EALw_wcB)"
   ]
  },
  {
   "cell_type": "markdown",
   "metadata": {
    "id": "TPqTOA8DbGgq"
   },
   "source": [
    "### TODO #1\n",
    "1. Thử un-comment bằng cách để dấu nháy chuột ở dòng print(json_data) và nhấn `Ctrl+/`. Sau đó, chạy lại.\n",
    "2. Cấu trúc của `json_data` tương tự `dictionary`: thử gọi biến `SENDER_EMAIL` trong file json và `print`\n",
    "=> Task này sẽ giúp bạn tìm hiểu thêm về cấu trúc của 1 file JSON."
   ]
  },
  {
   "cell_type": "markdown",
   "metadata": {
    "id": "1SU_ozhPU2B1"
   },
   "source": [
    "### Concept: Environment Variables\n",
    "* [Environment Variables](https://medium.com/chingu/an-introduction-to-environment-variables-and-how-to-use-them-f602f66d15fa#:~:text=An%20environment%20variable%20is%20a,at%20a%20point%20in%20time.) là các biến (variable) được set bên ngoài program\n",
    "* Lý do: Có một số value có tính nhạy cảm (password), việc để trong code (và đưa lên Git) sẽ không bảo mật các thông tin này\n",
    "\n",
    "Trong đoạn code dưới, ta giữ các thông tin nhạy cảm khỏi code bằng việc lưu giữ trong một file json, và gọi các giá trị `SENDER_MAIL`, `PWD_EMAIL`, `API_KEY` lưu vào Environmental Variables."
   ]
  },
  {
   "cell_type": "code",
   "execution_count": 5,
   "metadata": {
    "colab": {
     "base_uri": "https://localhost:8080/"
    },
    "id": "4vlqLayL2IDd",
    "outputId": "86786eac-de8f-41b3-9ea4-e9d366db64a0"
   },
   "outputs": [
    {
     "name": "stdout",
     "output_type": "stream",
     "text": [
      "DONE! Get Env. Variable\n"
     ]
    }
   ],
   "source": [
    "import os\n",
    "os.environ['SENDER_EMAIL'] = json_data['SENDER_EMAIL'] ## INPUT: Your Email\n",
    "os.environ['PWD_EMAIL'] = json_data['PWD_EMAIL'] ## INPUT: Your App Password\n",
    "os.environ['WEATHER_API_KEY'] = json_data['WEATHER_API_KEY'] ## INPUT: OpenWeather API Key\n",
    "print('DONE! Get Env. Variable')"
   ]
  },
  {
   "cell_type": "code",
   "execution_count": 6,
   "metadata": {
    "colab": {
     "base_uri": "https://localhost:8080/"
    },
    "id": "pnWQlWHMZja7",
    "outputId": "af9cb1b9-1d07-4c67-862e-12aa4624ba61"
   },
   "outputs": [
    {
     "name": "stdout",
     "output_type": "stream",
     "text": [
      "lethuthao1368@gmail.com\n"
     ]
    }
   ],
   "source": [
    "print(os.environ['SENDER_EMAIL'])"
   ]
  },
  {
   "cell_type": "markdown",
   "metadata": {
    "id": "fnJtI0S12eh-"
   },
   "source": [
    "### 0.2. Import Modules\n",
    "\n",
    "\n",
    "*   [Modules](https://docs.python.org/3/tutorial/modules.html): là một file gồm các definitions & statements trong python. Nói nôm ra, modules là một gói chứa nhiều functions. \n",
    "*   Dấu `.` chỉ sự \"thuộc về\": a.b.c nghĩa là c nằm trong b, b nằm trong a. Ví dụ: `json.load()` nghĩa là function `load()` trong module `json()`\n",
    "*   Load một module bằng `import` \n",
    "*   Install một module vào máy bằng: `!pip install`. Có dấu `!`, nghĩa là **Shell Commands**\n",
    "\n",
    "Dưới đây ta import tất cả các module cần sử dụng cho Assignment, một practice tốt là gom hết các modules và install trên đầu notebook/file code.\n",
    "\n"
   ]
  },
  {
   "cell_type": "code",
   "execution_count": 7,
   "metadata": {
    "id": "pbOfgkfU3XYz"
   },
   "outputs": [
    {
     "name": "stdout",
     "output_type": "stream",
     "text": [
      "Requirement already satisfied: beautifulsoup4 in c:\\users\\user\\anaconda3\\lib\\site-packages (4.9.3)\n",
      "Requirement already satisfied: soupsieve>1.2; python_version >= \"3.0\" in c:\\users\\user\\anaconda3\\lib\\site-packages (from beautifulsoup4) (2.0.1)\n",
      "Note: you may need to restart the kernel to use updated packages.\n"
     ]
    }
   ],
   "source": [
    "pip install beautifulsoup4"
   ]
  },
  {
   "cell_type": "code",
   "execution_count": 8,
   "metadata": {
    "id": "C0dJywJtOtEK"
   },
   "outputs": [],
   "source": [
    "import email, smtplib, ssl # to automate email\n",
    "import email as mail\n",
    "from email import encoders\n",
    "from email.mime.base import MIMEBase\n",
    "from email.mime.multipart import MIMEMultipart\n",
    "from email.mime.text import MIMEText\n",
    "\n",
    "import requests, json # to pull API, and work with json\n",
    "import datetime as dt # to work with date, time\n",
    "from bs4 import BeautifulSoup # to work with web scrapping (HTML)\n",
    "import pandas as pd # to work with tables (DataFrames) data\n",
    "from IPython.core.display import HTML # to display HTML in the notebook"
   ]
  },
  {
   "cell_type": "markdown",
   "metadata": {
    "id": "KkJiWpgkgNyB"
   },
   "source": [
    "## 1. Email Bot\n",
    "Đoạn code sau để gửi email:\n",
    "- Từ: `SENDER_EMAIL`\n",
    "- Đến: `RECEIVER_MAIL`\n",
    "- Với subject và body gồm 3 phần: Phần nội dung được viết bằng HTML, nếu chưa quen thuộc bạn có thể dùng công cụ xong để convert từ style của MS Word sang HTML: https://wordtohtml.net/"
   ]
  },
  {
   "cell_type": "code",
   "execution_count": 11,
   "metadata": {
    "colab": {
     "base_uri": "https://localhost:8080/"
    },
    "id": "9unEmluARSpH",
    "outputId": "bad054b2-da52-4132-ea4c-d93a79eaa6d5"
   },
   "outputs": [],
   "source": [
    "# set -up\n",
    "\n",
    "sender_email = os.environ['SENDER_EMAIL']\n",
    "password = os.environ['PWD_EMAIL'] \n",
    "\n",
    "\n",
    "# (2) Create Body part\n",
    "\n",
    "html1 = \"\"\"\n",
    "    <html>\n",
    "    <h1><strong>Hello World</strong></h1>\n",
    "    <body>\n",
    "    <p>Hi!<br>\n",
    "       How are you?<br>\n",
    "       Here is the <a href=\"https://docs.python.org/3.4/library/email-examples.html\">link</a> you wanted.\n",
    "    </p>\n",
    "    </body>\n",
    "    </html>\n",
    "    \"\"\"\n",
    "html2 = \"\"\"\n",
    "<html>\n",
    "Email sent at <b>{}</b><br>\n",
    "</html>\n",
    "\"\"\".format(dt.datetime.now().isoformat())\n",
    "\n",
    "text3 = '--- End ----'\n",
    "\n",
    "# Combine parts\n",
    "part1 = MIMEText(html1, 'html')\n",
    "part2 = MIMEText(html2, 'html')\n",
    "part3 = MIMEText(text3, 'plain')\n"
   ]
  },
  {
   "cell_type": "markdown",
   "metadata": {
    "id": "LKXSTGhMiyGa"
   },
   "source": [
    "### TODO #2\n",
    "1.   Từ Email Bot Code viết function `send_email`:\n",
    "  - **inputs**: subject, receiver_email, part1, part2, part3\n",
    "  - **output**: thực hiện việc gửi email và in ra kết quả\n",
    "2.   Kết hợp Loops (For ... in) với function để gửi cùng nội dung email đến 1 list user: `email_list = ['abc@gmail.com', 'xyz@gmail.com']` (thay đổi email bằng các email thật của bạn để test)"
   ]
  },
  {
   "cell_type": "code",
   "execution_count": 12,
   "metadata": {
    "id": "2YV6peDOmNkA"
   },
   "outputs": [],
   "source": [
    "def send_email(receiver_email, subject, part1, part2, part3):\n",
    "  \n",
    "        # (1) Create the email head (sender, receiver, and subject)\n",
    "    email = MIMEMultipart()\n",
    "    email[\"From\"] = sender_email\n",
    "    email[\"To\"] = receiver_email \n",
    "    email[\"Subject\"] = subject\n",
    "\n",
    "\n",
    "\n",
    "    email.attach(part1)\n",
    "    email.attach(part2)\n",
    "    email.attach(part3)\n",
    "\n",
    "    # (3) Create SMTP session for sending the mail\n",
    "    session = smtplib.SMTP('smtp.gmail.com', 587) #use gmail with port\n",
    "    session.starttls() #enable security\n",
    "    session.login(sender_email, password) #login with mail_id and password\n",
    "    text = email.as_string()\n",
    "    session.sendmail(sender_email, receiver_email, text)\n",
    "    session.quit()\n",
    "\n",
    "    print('DONE! Mail Sent from {} to {}'.format(sender_email, receiver_email))"
   ]
  },
  {
   "cell_type": "code",
   "execution_count": 13,
   "metadata": {
    "id": "4ydkiKUqmhMw"
   },
   "outputs": [
    {
     "name": "stdout",
     "output_type": "stream",
     "text": [
      "DONE! Mail Sent from lethuthao1368@gmail.com to lethuthao1368@gmail.com\n",
      "DONE! Mail Sent from lethuthao1368@gmail.com to thuthao.le.bit@gmail.com\n"
     ]
    }
   ],
   "source": [
    "email_list = ['lethuthao1368@gmail.com','thuthao.le.bit@gmail.com']\n",
    "for i in email_list:\n",
    "    send_email(i,'Test function',part1, part2, part3)"
   ]
  },
  {
   "cell_type": "markdown",
   "metadata": {
    "id": "RM7HKTGIh9IC"
   },
   "source": [
    "## Call API"
   ]
  },
  {
   "cell_type": "markdown",
   "metadata": {
    "id": "z22CtbW8mvqh"
   },
   "source": [
    "### Concept: API\n",
    "* **API** ([Application Programming Interface](https://en.wikipedia.org/wiki/API)): Là cách thức và phương tiện để 2 applications nói chuyện với nhau. Ở đây là giữa Python program trên Colab của bạn và các Web application khác. \n",
    "* Đây là concept nền tảng trong việc Automation\n",
    "* API nhận input là JSON file (có khi không nhận) và trả lại output là JSON file => Request/Call API\n",
    "* Đây là một cách phổ biến đế gửi và nhận data\n",
    "\n",
    "Đoạn code bên dưới: \n",
    "* Lấy input là `API_KEY`, country, ta request **API** của Open Weather\n",
    "* Được trả lại file kết quả dưới dạng `JSON`\n",
    "* Trích xuất 1 vài thông tin, và lưu ra file text"
   ]
  },
  {
   "cell_type": "code",
   "execution_count": 14,
   "metadata": {
    "colab": {
     "base_uri": "https://localhost:8080/"
    },
    "id": "3ZzdPfFbiCZa",
    "outputId": "e545d025-5a9c-444a-8255-c489e81d6bf6"
   },
   "outputs": [
    {
     "name": "stdout",
     "output_type": "stream",
     "text": [
      "DONE! Output in weather.txt file\n",
      "<Response [200]>\n"
     ]
    }
   ],
   "source": [
    "# base URL\n",
    "BASE_URL = \"https://api.openweathermap.org/data/2.5/weather?\"\n",
    "# City Name \n",
    "CITY = \"London\"\n",
    "# API key \n",
    "API_KEY = os.environ['WEATHER_API_KEY']\n",
    "# upadting the URL\n",
    "URL = BASE_URL + \"q=\" + CITY + \"&appid=\" + API_KEY\n",
    "# HTTP request\n",
    "response = requests.get(URL)\n",
    "# checking the status code of the request\n",
    "if response.status_code == 200:\n",
    "       # getting data in the json format\n",
    "    data = response.json()\n",
    "    main = data['main']\n",
    "    temperature = main['temp']  \n",
    "    humidity = main['humidity']\n",
    "    pressure = main['pressure']\n",
    "    report = data['weather']\n",
    "    # getting the main dict block\n",
    "\n",
    "    f = open('weather.txt','w') ## write to text file\n",
    "    print(f\"{CITY:-^30}\", file=f)\n",
    "    print(f\"Temperature: {temperature}\", file=f)\n",
    "    print(f\"Humidity: {humidity}\", file=f)\n",
    "    print(f\"Pressure: {pressure}\", file=f)\n",
    "    print(f\"Weather Report: {report[0]['description']}\", file=f)\n",
    "    f.close()\n",
    "    print(\"DONE! Output in weather.txt file\")\n",
    "else:\n",
    "    print(\"Error in the HTTP request\")\n",
    "print(response)"
   ]
  },
  {
   "cell_type": "code",
   "execution_count": 15,
   "metadata": {
    "colab": {
     "base_uri": "https://localhost:8080/"
    },
    "id": "I_4mwiKRpVzJ",
    "outputId": "a354c204-8110-4186-ae37-9cbd72210e9f"
   },
   "outputs": [
    {
     "name": "stdout",
     "output_type": "stream",
     "text": [
      "------------London------------\n",
      "Temperature: 283.63\n",
      "Humidity: 76\n",
      "Pressure: 1007\n",
      "Weather Report: broken clouds\n",
      "\n"
     ]
    }
   ],
   "source": [
    "print(open(\"weather.txt\", \"r\").read())"
   ]
  },
  {
   "cell_type": "markdown",
   "metadata": {
    "id": "jbmpcldqGhuk"
   },
   "source": [
    "### TODO #3\n",
    "1. Trên file json kết quả:\n",
    "  - Lấy thông tin trạng thái thời tiết (weather) chính (main) ở London\n",
    "  - Lấy lat & lon (kinh độ và vĩ độ của London)\n",
    "2. Viết function `get_weather_data` \n",
    "  - inputs: city\n",
    "  - outputs: đoạn text thông tin thời tiết\n",
    "3. Dùng function `send_email` in **TODO #1**, thay phần 3 trong nội dùng email bằng thông tin thời tiết của London gửi cho 1 địa chỉ email của bạn"
   ]
  },
  {
   "cell_type": "code",
   "execution_count": 16,
   "metadata": {
    "id": "p9tm-FzIoof1"
   },
   "outputs": [
    {
     "name": "stdout",
     "output_type": "stream",
     "text": [
      "The weather of London:  Clouds\n",
      "Coordinate of London: \n",
      "Lon:  -0.1257\n",
      "Lat:  51.5085\n"
     ]
    }
   ],
   "source": [
    "# YOUR CODE\n",
    "print('The weather of London: ',data['weather'][0]['main'])\n",
    "print('Coordinate of London: ')\n",
    "print('Lon: ',data['coord']['lon'])\n",
    "print('Lat: ',data['coord']['lat'])\n",
    "# data['coord']['lon'] \n",
    "# data['coord']['lat']"
   ]
  },
  {
   "cell_type": "code",
   "execution_count": 17,
   "metadata": {
    "id": "onTj-Et3o2PO"
   },
   "outputs": [],
   "source": [
    "def get_weather_data(city):\n",
    "\n",
    "    BASE_URL = \"https://api.openweathermap.org/data/2.5/weather?\"\n",
    "\n",
    "    CITY = city\n",
    "\n",
    "    API_KEY = os.environ['WEATHER_API_KEY']\n",
    "\n",
    "    URL = BASE_URL + \"q=\" + CITY + \"&appid=\" + API_KEY\n",
    "    \n",
    "    # HTTP request\n",
    "    response = requests.get(URL)\n",
    " \n",
    "    if response.status_code == 200:\n",
    "     \n",
    "        data = response.json()\n",
    "\n",
    "        main = data['main']\n",
    "\n",
    "        temperature = main['temp']\n",
    "\n",
    "        humidity = main['humidity']\n",
    "\n",
    "        pressure = main['pressure']\n",
    "\n",
    "        report = data['weather']\n",
    "        file_weather = open('content_weathe.txt','w')\n",
    "        \n",
    "        \n",
    "  \n",
    "        print(f\"{CITY:-^30}\",file = file_weather)\n",
    "        print(f\"Temperature: {temperature}\",file = file_weather)\n",
    "        print(f\"Humidity: {humidity}\",file = file_weather)\n",
    "        print(f\"Pressure: {pressure}\",file = file_weather)\n",
    "        print(f\"Weather Report: {report[0]['description']}\",file = file_weather)\n",
    "        file_weather.close()\n",
    "        return open('content_weathe.txt','r').read()\n",
    "    \n",
    "    else:\n",
    "       # showing the error message\n",
    "        print(\"Error in the HTTP request\")\n",
    "        print(response)"
   ]
  },
  {
   "cell_type": "code",
   "execution_count": 18,
   "metadata": {
    "id": "BxVhcoDuo78n"
   },
   "outputs": [
    {
     "data": {
      "text/plain": [
       "str"
      ]
     },
     "execution_count": 18,
     "metadata": {},
     "output_type": "execute_result"
    }
   ],
   "source": [
    "type(get_weather_data('HANOI'))"
   ]
  },
  {
   "cell_type": "code",
   "execution_count": 19,
   "metadata": {},
   "outputs": [
    {
     "name": "stdout",
     "output_type": "stream",
     "text": [
      "------------HANOI-------------\n",
      "Temperature: 301.15\n",
      "Humidity: 94\n",
      "Pressure: 1006\n",
      "Weather Report: broken clouds\n",
      "\n"
     ]
    }
   ],
   "source": [
    "print(open('content_weathe.txt','r').read())"
   ]
  },
  {
   "cell_type": "markdown",
   "metadata": {
    "id": "qdAc1M91tLRV"
   },
   "source": [
    "## Web Scrapping"
   ]
  },
  {
   "cell_type": "markdown",
   "metadata": {
    "id": "9lJY0KlSrLIy"
   },
   "source": [
    "### Concept: Web Scrapping\n",
    "* Web Scrapping là hoạt động lấy data từ các website. Nội dung của các website được trình bày bằng HTML\n",
    "* Để hiểu cấu trúc của HTML: Có thể vào `Chrome => More Tools => Developer Tools`\n",
    "* Cấu trúc và cách lấy giá trị của HTML cũng tương tự như JSON và Dictionary.\n",
    "* BeautifulSoup là một modules cho phép ta trích xuất thông tin từ HTML dễ dàng hơn\n",
    "\n",
    "**Reference**\n",
    "https://www.freecodecamp.org/news/scraping-wikipedia-articles-with-python/"
   ]
  },
  {
   "cell_type": "code",
   "execution_count": 20,
   "metadata": {
    "colab": {
     "base_uri": "https://localhost:8080/"
    },
    "id": "Bnp36lyEtxS0",
    "outputId": "ef826dab-a7d0-4bdf-ee2e-30008d2de06d"
   },
   "outputs": [
    {
     "name": "stdout",
     "output_type": "stream",
     "text": [
      "API Status Code: 200\n",
      "COVID-19\n"
     ]
    }
   ],
   "source": [
    "response = requests.get(\n",
    "\turl=\"https://en.wikipedia.org/wiki/COVID-19\",\n",
    "  )\n",
    "print(\"API Status Code: \"+ str(response.status_code))\n",
    "soup = BeautifulSoup(response.content, 'html.parser')\n",
    "\n",
    "title = soup.find(id=\"firstHeading\")\n",
    "print(title.string)"
   ]
  },
  {
   "cell_type": "code",
   "execution_count": 22,
   "metadata": {
    "id": "jvjNUghruM3j"
   },
   "outputs": [
    {
     "data": {
      "text/plain": [
       "bs4.element.ResultSet"
      ]
     },
     "execution_count": 22,
     "metadata": {},
     "output_type": "execute_result"
    }
   ],
   "source": [
    "# Get all the links\n",
    "p = soup.find(id=\"bodyContent\").find_all(\"p\") # \"a\"\n",
    "p[4]\n",
    "str(p[4])\n",
    "type(p)"
   ]
  },
  {
   "cell_type": "code",
   "execution_count": 23,
   "metadata": {
    "colab": {
     "base_uri": "https://localhost:8080/",
     "height": 67
    },
    "id": "Hecg5C84vkzJ",
    "outputId": "6c25c4ce-f871-4284-b75b-b2ffd9ebcfd0"
   },
   "outputs": [
    {
     "data": {
      "text/html": [
       "<p><b>Coronavirus disease 2019</b> (<b>COVID-19</b>), also known as <b>the coronavirus</b>, or <b>COVID</b>, is a <a href=\"/wiki/Contagious_disease\" title=\"Contagious disease\">contagious disease</a> caused by <a href=\"/wiki/Severe_acute_respiratory_syndrome_coronavirus_2\" title=\"Severe acute respiratory syndrome coronavirus 2\">severe acute respiratory syndrome coronavirus 2</a> (SARS-CoV-2). The first known case was identified in <a href=\"/wiki/Wuhan\" title=\"Wuhan\">Wuhan</a>, China, in December <a href=\"/wiki/2019\" title=\"2019\">2019</a>.<sup class=\"reference\" id=\"cite_ref-WSJ-20210226_7-0\"><a href=\"#cite_note-WSJ-20210226-7\">[7]</a></sup> The disease has since spread worldwide, leading to an <a href=\"/wiki/COVID-19_pandemic\" title=\"COVID-19 pandemic\">ongoing pandemic</a>.<sup class=\"reference\" id=\"cite_ref-NYT-20210226_8-0\"><a href=\"#cite_note-NYT-20210226-8\">[8]</a></sup>\n",
       "</p>"
      ],
      "text/plain": [
       "<IPython.core.display.HTML object>"
      ]
     },
     "execution_count": 23,
     "metadata": {},
     "output_type": "execute_result"
    }
   ],
   "source": [
    "from IPython.core.display import HTML\n",
    "HTML(str(p[4]))"
   ]
  },
  {
   "cell_type": "markdown",
   "metadata": {
    "id": "d7YEfY3qqq10"
   },
   "source": [
    "### TODO #4\n",
    "1. Dùng function `send_email` in Excercise 1.1, thay phần 3 trong nội dùng email bằng thông tin COVID-19 từ Wikipedia gửi cho 1 địa chỉ email của bạn"
   ]
  },
  {
   "cell_type": "code",
   "execution_count": 24,
   "metadata": {},
   "outputs": [],
   "source": [
    "part3 = MIMEText(str(p[4]), 'html')"
   ]
  },
  {
   "cell_type": "code",
   "execution_count": 25,
   "metadata": {},
   "outputs": [
    {
     "name": "stdout",
     "output_type": "stream",
     "text": [
      "DONE! Mail Sent from lethuthao1368@gmail.com to lethuthao1368@gmail.com\n"
     ]
    }
   ],
   "source": [
    "send_email('lethuthao1368@gmail.com','Web scrapping',part1, part2, part3)"
   ]
  },
  {
   "cell_type": "markdown",
   "metadata": {
    "id": "kxfS-b_T2W0a"
   },
   "source": [
    "## CSV"
   ]
  },
  {
   "cell_type": "markdown",
   "metadata": {
    "id": "3ssJNK-0rUo4"
   },
   "source": [
    "### Concept CSV\n",
    "* CSV là dạng data có các cột được ngăn cách bằng dấu phẩy ([Comma-separated value](https://en.wikipedia.org/wiki/Comma-separated_values#:~:text=A%20comma%2Dseparated%20values%20(CSV,more%20fields%2C%20separated%20by%20commas.))\n",
    "* Đây là dạng data (bảng) cực kỳ phổ biến trong Data Analytics & Data Science\n",
    "* Có thể đọc, ghi, và xử lý bằng `pandas`"
   ]
  },
  {
   "cell_type": "markdown",
   "metadata": {
    "id": "lDxNcYmxq3zr"
   },
   "source": [
    "### TODO #5\n",
    "* Add các địa chỉ email có ý nghĩa, và thêm dòng vào file csv (lưu ý không có dấu cách)\n",
    "* Dùng code để gửi email cho một list từ csv:\n",
    "  - Nếu email có contents = 'News' => Gửi thông tin COVID19\n",
    "  - Nếu email có contents = 'Weather' => Gửi thông tin thời tiết theo thành phố trong cột city (lưu ý check các city được hỗ trợ trong API)\n",
    "\n",
    "**Hints:**\n",
    "* Sử dụng loops for ... in \n",
    "* Sử dụng function `send_email`, `get_weather_data`"
   ]
  },
  {
   "cell_type": "code",
   "execution_count": 46,
   "metadata": {},
   "outputs": [],
   "source": [
    "new_list = \"\"\"emails,contents,city\n",
    "lethuthao1368@gmail.com,News,London\n",
    "thuthao.le.bit@gmail.com,Weather,Hanoi\"\"\"\n",
    "f = open('new_list.csv','w')\n",
    "f.write(new_list)\n",
    "f.close()"
   ]
  },
  {
   "cell_type": "code",
   "execution_count": 47,
   "metadata": {},
   "outputs": [
    {
     "data": {
      "text/html": [
       "<div>\n",
       "<style scoped>\n",
       "    .dataframe tbody tr th:only-of-type {\n",
       "        vertical-align: middle;\n",
       "    }\n",
       "\n",
       "    .dataframe tbody tr th {\n",
       "        vertical-align: top;\n",
       "    }\n",
       "\n",
       "    .dataframe thead th {\n",
       "        text-align: right;\n",
       "    }\n",
       "</style>\n",
       "<table border=\"1\" class=\"dataframe\">\n",
       "  <thead>\n",
       "    <tr style=\"text-align: right;\">\n",
       "      <th></th>\n",
       "      <th>emails</th>\n",
       "      <th>contents</th>\n",
       "      <th>city</th>\n",
       "    </tr>\n",
       "  </thead>\n",
       "  <tbody>\n",
       "    <tr>\n",
       "      <th>0</th>\n",
       "      <td>lethuthao1368@gmail.com</td>\n",
       "      <td>News</td>\n",
       "      <td>London</td>\n",
       "    </tr>\n",
       "    <tr>\n",
       "      <th>1</th>\n",
       "      <td>thuthao.le.bit@gmail.com</td>\n",
       "      <td>Weather</td>\n",
       "      <td>Hanoi</td>\n",
       "    </tr>\n",
       "  </tbody>\n",
       "</table>\n",
       "</div>"
      ],
      "text/plain": [
       "                     emails contents    city\n",
       "0   lethuthao1368@gmail.com     News  London\n",
       "1  thuthao.le.bit@gmail.com  Weather   Hanoi"
      ]
     },
     "execution_count": 47,
     "metadata": {},
     "output_type": "execute_result"
    }
   ],
   "source": [
    "new_list_csv = pd.read_csv('new_list.csv')\n",
    "new_list_csv"
   ]
  },
  {
   "cell_type": "code",
   "execution_count": 48,
   "metadata": {},
   "outputs": [],
   "source": [
    "# General parts\n",
    "\n",
    "first_html = \"\"\"\n",
    "<h1>Hi there,</h1>\n",
    "<h2>Here is your <span style=\"color: rgb(41, 105, 176);\">latest news</span>:</h2>\n",
    "    \"\"\"\n",
    "third_html = \"\"\"\n",
    "<html>\n",
    "Email sent at <b>{}</b><br>\n",
    "</html>\n",
    "\"\"\".format(dt.datetime.now().isoformat())\n",
    "\n",
    "# Combine general parts\n",
    "first = MIMEText(first_html, 'html')\n",
    "third = MIMEText(third_html, 'html')\n"
   ]
  },
  {
   "cell_type": "code",
   "execution_count": 49,
   "metadata": {},
   "outputs": [],
   "source": [
    "# body email for news type\n",
    "news = p[4]\n",
    "second_news = MIMEText(str(news), 'html')"
   ]
  },
  {
   "cell_type": "code",
   "execution_count": 50,
   "metadata": {},
   "outputs": [
    {
     "name": "stdout",
     "output_type": "stream",
     "text": [
      " will send Covid infor to lethuthao1368@gmail.com\n",
      "DONE! Mail Sent from lethuthao1368@gmail.com to lethuthao1368@gmail.com\n",
      " will send Weather infor to thuthao.le.bit@gmail.com\n",
      "DONE! Mail Sent from lethuthao1368@gmail.com to thuthao.le.bit@gmail.com\n"
     ]
    }
   ],
   "source": [
    "for i in range(len(new_list_csv)):\n",
    "    email = new_list_csv[\"emails\"][i]\n",
    "    content = new_list_csv[\"contents\"][i]\n",
    "    city = new_list_csv[\"city\"][i]\n",
    "    if content == \"News\":\n",
    "        print(\" will send Covid infor to {}\".format(email))\n",
    "        \n",
    "        send_email(email,content,first, second_news, third)\n",
    "        pass\n",
    "        \n",
    "    elif content == \"Weather\":\n",
    "        print(\" will send Weather infor to {}\".format(email))\n",
    "        \n",
    "        second_weather = MIMEText(str(get_weather_data(city)), 'plain')\n",
    "        send_email(email,content,first, second_weather, third)\n",
    "    else:\n",
    "        print(\"invalid contents\")"
   ]
  }
 ],
 "metadata": {
  "colab": {
   "authorship_tag": "ABX9TyPr64JyVtUmUnV7MTJJnLmW",
   "collapsed_sections": [],
   "include_colab_link": true,
   "name": "ATOM | Home Assignment 2.ipynb",
   "provenance": [],
   "toc_visible": true
  },
  "kernelspec": {
   "display_name": "Python 3",
   "language": "python",
   "name": "python3"
  },
  "language_info": {
   "codemirror_mode": {
    "name": "ipython",
    "version": 3
   },
   "file_extension": ".py",
   "mimetype": "text/x-python",
   "name": "python",
   "nbconvert_exporter": "python",
   "pygments_lexer": "ipython3",
   "version": "3.8.5"
  }
 },
 "nbformat": 4,
 "nbformat_minor": 1
}
